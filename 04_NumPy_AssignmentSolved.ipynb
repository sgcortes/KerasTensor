{
  "cells": [
    {
      "cell_type": "markdown",
      "metadata": {
        "id": "view-in-github",
        "colab_type": "text"
      },
      "source": [
        "<a href=\"https://colab.research.google.com/github/sgcortes/KerasTensor/blob/master/04_NumPy_AssignmentSolved.ipynb\" target=\"_parent\"><img src=\"https://colab.research.google.com/assets/colab-badge.svg\" alt=\"Open In Colab\"/></a>"
      ]
    },
    {
      "cell_type": "markdown",
      "metadata": {
        "id": "C8YvCHxyzfah",
        "nbgrader": {
          "grade": false,
          "locked": true,
          "solution": false
        },
        "tags": [],
        "editable": false,
        "deletable": false
      },
      "source": [
        "<h1 style=“font-size:30px;“>NumPy Assignment</h1>\n",
        "\n",
        "In this assignment, you will use NumPy to implement simple mathematical functions, which are the building blocks of a Neural Network and are therefore used very frequently in Deep Learning."
      ]
    },
    {
      "cell_type": "markdown",
      "metadata": {
        "id": "-T9DJtzKzfas",
        "nbgrader": {
          "grade": false,
          "locked": true,
          "solution": false
        },
        "editable": false,
        "deletable": false
      },
      "source": [
        "### Maximum Points: 30\n",
        "\n",
        "<div>\n",
        "    <table>\n",
        "        <tr><td><h3>Section</h3></td> <td><h3>Problem</h3></td> <td><h3>Points</h3></td> </tr>\n",
        "        <tr><td><h3>1</h3></td> <td><h3>Leaky ReLu Implementation</h3></td> <td><h3>10</h3></td> </tr>\n",
        "        <tr><td><h3>2</h3></td> <td><h3>Sigmoid Implementation</h3></td> <td><h3>10</h3></td> </tr>\n",
        "        <tr><td><h3>3</h3></td> <td><h3>Convolution Implementation</h3></td> <td><h3>10</h3></td> </tr>\n",
        "    </table>\n",
        "</div>"
      ]
    },
    {
      "cell_type": "code",
      "execution_count": null,
      "metadata": {
        "collapsed": true,
        "id": "0rbyqgAMcFFf",
        "nbgrader": {
          "grade": false,
          "locked": true,
          "solution": false
        },
        "editable": false,
        "deletable": false
      },
      "outputs": [],
      "source": [
        "from typing import Tuple\n",
        "\n",
        "import matplotlib.pyplot as plt\n",
        "import numpy as np"
      ]
    },
    {
      "cell_type": "code",
      "execution_count": null,
      "metadata": {
        "collapsed": true,
        "id": "txAjYUcuzfay",
        "nbgrader": {
          "grade": false,
          "locked": true,
          "solution": false
        },
        "editable": false,
        "deletable": false
      },
      "outputs": [],
      "source": [
        "block_plot = False"
      ]
    },
    {
      "cell_type": "markdown",
      "metadata": {
        "nbgrader": {
          "grade": false,
          "locked": true,
          "solution": false
        },
        "editable": false,
        "deletable": false,
        "id": "XP3N1r3aqlbc"
      },
      "source": [
        "## 1 Leaky ReLU [10 Points]\n",
        "\n",
        "\n",
        "<img src='https://learnopencv.com/wp-content/uploads/2022/02/c4_01_leaky_relu.png' width=600 align=‘center’><br/>\n",
        "\n",
        "\n",
        "Let’s first see how to implement **Leaky ReLU**:\n",
        "\n",
        "\n",
        "$$\n",
        "f(x) = \\left\\{\n",
        "  \\begin{array}\\\\\n",
        "  x\\alpha&\\mbox{if }x<0\\\\\n",
        "  x&\\mbox{otherwise }\\\\\n",
        "  \\end{array}\n",
        "\\right\\}\n",
        "$$\n",
        "\n",
        "For the following input:\n",
        "\n",
        "$$\n",
        "x = [-0.7329559\\;1.23146666]\\;,\\alpha=0.03\n",
        "$$\n",
        "\n",
        "LeakyReLu will return:\n",
        "\n",
        "$$\n",
        "[-0.02198868\\;1.23146666]\n",
        "$$"
      ]
    },
    {
      "cell_type": "code",
      "execution_count": null,
      "metadata": {
        "collapsed": true,
        "id": "q6zFUhPOqlbd"
      },
      "outputs": [],
      "source": [
        "def leaky_relu(array: np.ndarray, alpha: float) -> np.ndarray:\n",
        "\n",
        "    \"\"\"\n",
        "    leaky_relu\n",
        "\n",
        "    x >= 0 -> f(x) = x\n",
        "    x < 0 -> f(x) = alpha * x\n",
        "\n",
        "    Parameters\n",
        "\n",
        "    array: Input array.\n",
        "    alpha: Slope for the activation\n",
        "           when input is negative.\n",
        "\n",
        "    Returns:\n",
        "\n",
        "    Returns an array having the same shape as the input.\n",
        "    \"\"\"\n",
        "\n",
        "    _array = array.copy()\n",
        "    ###\n",
        "    mask_menor = _array < 0\n",
        "    mask_mayor = _array >= 0\n",
        "    _array = array * mask_menor * alpha + array * mask_mayor\n",
        "    ###\n",
        "\n",
        "    return _array"
      ]
    },
    {
      "cell_type": "code",
      "execution_count": null,
      "metadata": {
        "nbgrader": {
          "grade": false,
          "locked": true,
          "solution": false
        },
        "editable": false,
        "deletable": false,
        "colab": {
          "base_uri": "https://localhost:8080/"
        },
        "id": "n7JlNnhjqlbd",
        "outputId": "7dcefa6e-5bad-4937-ef4c-b67619f50b94"
      },
      "outputs": [
        {
          "output_type": "stream",
          "name": "stdout",
          "text": [
            "[-0.02198868  1.23146666]\n"
          ]
        }
      ],
      "source": [
        "inArray = np.array([-0.7329559, 1.23146666])\n",
        "\n",
        "print(leaky_relu(inArray, 0.03))"
      ]
    },
    {
      "cell_type": "code",
      "execution_count": null,
      "metadata": {
        "collapsed": true,
        "nbgrader": {
          "grade": true,
          "grade_id": "Leaky ReLU",
          "locked": true,
          "points": "10",
          "solution": false
        },
        "editable": false,
        "deletable": false,
        "id": "eeC3ibq2qlbd"
      },
      "outputs": [],
      "source": [
        "###\n",
        "### AUTOGRADER TEST - DO NOT REMOVE\n",
        "###\n"
      ]
    },
    {
      "cell_type": "markdown",
      "metadata": {
        "nbgrader": {
          "grade": false,
          "locked": true,
          "solution": false
        },
        "editable": false,
        "deletable": false,
        "id": "uMSyOzmuqlbe"
      },
      "source": [
        "## 2 Sigmoid [10 Points]\n",
        "\n",
        "\n",
        "<img src='https://learnopencv.com/wp-content/uploads/2022/02/c4_01_sigmoid.png' width=600 align=‘center’>\n",
        "\n",
        "Next, we implement **Sigmoid**:\n",
        "\n",
        "\n",
        "$$\\frac{1}{1 + e^{-x}}$$\n",
        "\n",
        "For the given input:\n",
        "\n",
        "$$\n",
        "[-2.39537836\\;-0.09620075]\n",
        "$$\n",
        "\n",
        "Sigmoid returns:\n",
        "\n",
        "$$\n",
        "[0.0835258\\;0.47596834]\n",
        "$$"
      ]
    },
    {
      "cell_type": "code",
      "execution_count": null,
      "metadata": {
        "collapsed": true,
        "id": "nTNk-CBWqlbe"
      },
      "outputs": [],
      "source": [
        "def sigmoid(array: np.ndarray) -> np.ndarray:\n",
        "\n",
        "    \"\"\"\n",
        "    sigmoid\n",
        "\n",
        "    f(x) = 1 / (1 + e^-x)\n",
        "\n",
        "    Parameters\n",
        "\n",
        "    array: Input array.\n",
        "\n",
        "    Returns\n",
        "\n",
        "    Returns an array having the same shape as input\n",
        "    \"\"\"\n",
        "    \n",
        "    sig_cal = None\n",
        "    ###\n",
        "    den = 1 + np.exp(-inArray)\n",
        "    num = np.ones(inArray.shape)\n",
        "    sig_cal = num / den \n",
        "    ###\n",
        "    \n",
        "    return sig_cal"
      ]
    },
    {
      "cell_type": "code",
      "execution_count": null,
      "metadata": {
        "nbgrader": {
          "grade": false,
          "locked": true,
          "solution": false
        },
        "editable": false,
        "deletable": false,
        "colab": {
          "base_uri": "https://localhost:8080/"
        },
        "id": "Yj5Yc-abqlbe",
        "outputId": "ff0de1cc-d177-452c-80e3-ab63139c572b"
      },
      "outputs": [
        {
          "output_type": "stream",
          "name": "stdout",
          "text": [
            "Input: [-2.39537836 -0.09620075]\n",
            "Result: [0.0835258  0.47596834]\n"
          ]
        }
      ],
      "source": [
        "inArray = np.array([-2.39537836, -0.09620075])\n",
        "sigmoidResult = sigmoid(inArray)\n",
        "\n",
        "print(f\"Input: {inArray}\")\n",
        "print(f\"Result: {sigmoidResult}\")"
      ]
    },
    {
      "cell_type": "code",
      "execution_count": null,
      "metadata": {
        "collapsed": true,
        "nbgrader": {
          "grade": true,
          "grade_id": "Sigmoid",
          "locked": true,
          "points": "10",
          "solution": false
        },
        "editable": false,
        "deletable": false,
        "id": "S-y08dGRqlbf"
      },
      "outputs": [],
      "source": [
        "###\n",
        "### AUTOGRADER TEST - DO NOT REMOVE\n",
        "###\n"
      ]
    },
    {
      "cell_type": "markdown",
      "metadata": {
        "id": "wYuJMtKFcFF9",
        "nbgrader": {
          "grade": false,
          "locked": true,
          "solution": false
        },
        "editable": false,
        "deletable": false
      },
      "source": [
        "## 3 The Convolution Operation [10 Points]\n",
        "\n",
        "Today, Convolutional Neural Networks (CNNs) are among the most widely-used architectures in the field of Computer Vision. One of the most fundamental operations performed in CNNs is the **Convolution Operation**.\n",
        "\n",
        "**Now, what is a convolution operation?**\n",
        "\n",
        "A convolution operation is the element-wise multiplication, of a \"kernel\" (or filter) with a region of an input image, followed by a summing operation, performed iteratively on the whole image.\n",
        "\n",
        "This illustration will make things more clear. Assume that your input is a 2D array, of size `5 x 5`, having the following values:\n",
        "\n",
        "\n",
        "\\begin{bmatrix}\n",
        "7 & 2 & 3 & 3 & 8\\\\\n",
        "4 & 5 & 3 & 8 & 4\\\\\n",
        "3 & 3 & 2 & 8 & 4\\\\\n",
        "2 & 8 & 7 & 2 & 7\\\\\n",
        "5 & 4 & 4 & 5 & 4\n",
        "\\end{bmatrix}\n",
        "\n",
        "And the kernel is of size `3 x 3`, with values:\n",
        "\n",
        "\\begin{bmatrix}\n",
        "1 & 0 & -1 \\\\\n",
        "1 & 0 & -1 \\\\\n",
        "1 & 0 & -1 \\\\\n",
        "\\end{bmatrix}\n",
        "\n",
        "The convolution operation of this kernel with the 2D input array is summarized in the followinf steps.\n",
        "\n",
        "### **Step 1:**\n",
        "<img src = 'https://learnopencv.com/wp-content/uploads/2022/01/c4_01_cnn_conv_step_1.jpg' width=800 align='center'><br/>\n",
        "\n",
        "### **Step 2:**\n",
        "<img src = 'https://learnopencv.com/wp-content/uploads/2022/01/c4_01_cnn_conv_step_2.jpg' width=800 align='center'><br/>\n",
        "\n",
        "### **Step 3:**\n",
        "<img src = 'https://learnopencv.com/wp-content/uploads/2022/01/c4_01_cnn_conv_step_3.jpg' width=800 align='center'><br/>\n",
        "\n",
        "### **Step 4:**\n",
        "<img src = 'https://learnopencv.com/wp-content/uploads/2022/01/c4_01_cnn_conv_step_4.jpg' width=800 align='center'><br/>\n",
        "\n",
        "In the above figures, **`*`** represents the convolution operation. Continue these series of operations untill we get the final output, as shown below: \n",
        "\n",
        "<img src = 'https://learnopencv.com/wp-content/uploads/2022/01/c4_01_cnn_conv_output.jpg' width=200 align='center'><br/>\n",
        "     \n",
        "\n",
        "In general, the size of the output after the Convolution operation is given by the formula:\n",
        "\n",
        "$$\\lfloor{\\frac{n + 2p - k}{s}}\\rfloor + 1$$ \n",
        "\n",
        "where `n` = Input shape, `p` = padding , `k`= kernel_size and `s` = stride;\n",
        "\n",
        "\n",
        "**Note: For this assignment, you need not worry about the padding and stride. We have kept them at `0` and `1` respectively.**\n",
        "\n",
        "**So, here, the output shape is given by: $$n - k + 1$$**\n",
        "\n",
        "Taking the above example as a reference, we have `n = 5` and `k = 3`. Therefore, the output shape is given by:\n",
        "`5 - 3 + 1 = 3`. Thus the output shape is a `3 x 3` square matrix."
      ]
    },
    {
      "cell_type": "markdown",
      "metadata": {
        "nbgrader": {
          "grade": false,
          "locked": true,
          "solution": false
        },
        "editable": false,
        "deletable": false,
        "id": "modL0zQWqlbf"
      },
      "source": [
        "In the following section, you will be implementing the Convolution operation.\n",
        "\n",
        "**Again, to simplify it for you, we will be dealing only with square matrices here.**"
      ]
    },
    {
      "cell_type": "code",
      "execution_count": null,
      "metadata": {
        "collapsed": true,
        "nbgrader": {
          "grade": false,
          "locked": false,
          "solution": false
        },
        "id": "J8k7uUrWqlbf"
      },
      "outputs": [],
      "source": [
        "def convolve(\n",
        "    input_array: np.ndarray,\n",
        "    kernel: np.ndarray,\n",
        "    verbose: bool = False,\n",
        ") -> np.ndarray:\n",
        "\n",
        "    \"\"\"\n",
        "    convolve\n",
        "\n",
        "    Parameters\n",
        "\n",
        "    input_array: Array on which convolution is done.\n",
        "    output_image: Placeholder array for output.\n",
        "    kernel: Kernel/ Filter.\n",
        "    \n",
        "    Returns\n",
        "\n",
        "    Convolved array.\n",
        "    \"\"\"\n",
        "\n",
        "    inshape = input_array.shape\n",
        "    kshape = kernel.shape\n",
        "\n",
        "    output_array = np.zeros((inshape[0] - kshape[0] + 1, inshape[1] - kshape[1] + 1))\n",
        "\n",
        "    for i in range(0, input_array.shape[0]):\n",
        "        for j in range(0, input_array.shape[1]):\n",
        "            try:\n",
        "                \n",
        "                ###\n",
        "                output_array[i,j] = np.sum(kernel * input_array[i:i+kshape[0],j:j+kshape[1]])\n",
        "                ###\n",
        "            \n",
        "            except Exception as exception:\n",
        "                if verbose:\n",
        "                    print(\"WARN: Image boundary is ignored.\")\n",
        "                    raise exception\n",
        "\n",
        "    return output_array.astype(np.int32)"
      ]
    },
    {
      "cell_type": "markdown",
      "metadata": {
        "nbgrader": {
          "grade": false,
          "locked": true,
          "solution": false
        },
        "editable": false,
        "deletable": false,
        "id": "PYzpxAs-qlbg"
      },
      "source": [
        "**Running the below cell, you should get the output as:**\n",
        "\n",
        "```\n",
        "Output array:\n",
        "[[ 6 -9 -8]\n",
        " [-3 -2 -3]\n",
        " [-3  0 -2]]\n",
        " \n",
        "```"
      ]
    },
    {
      "cell_type": "code",
      "execution_count": null,
      "metadata": {
        "nbgrader": {
          "grade": false,
          "locked": true,
          "solution": false
        },
        "editable": false,
        "deletable": false,
        "colab": {
          "base_uri": "https://localhost:8080/"
        },
        "id": "j3KlcUJ2qlbg",
        "outputId": "1b1da3cf-e2e2-47b2-c5a4-3825394057ae"
      },
      "outputs": [
        {
          "output_type": "stream",
          "name": "stdout",
          "text": [
            "Output array:\n",
            "[[ 6 -9 -8]\n",
            " [-3 -2 -3]\n",
            " [-3  0 -2]]\n"
          ]
        }
      ],
      "source": [
        "kernel = np.array([[1, 0, -1], [1, 0, -1], [1, 0, -1]])\n",
        "\n",
        "input_array = np.array([[7,2,3,3,8],[4,5,3,8,4],[3,3,2,8,4],[2,8,7,2,7],[5,4,4,5,4]])\n",
        "ouput_array = convolve(input_array, kernel)\n",
        "\n",
        "print(f\"Output array:\")\n",
        "print(ouput_array)"
      ]
    },
    {
      "cell_type": "code",
      "execution_count": null,
      "metadata": {
        "collapsed": true,
        "nbgrader": {
          "grade": true,
          "grade_id": "Convolution",
          "locked": true,
          "points": "10",
          "solution": false
        },
        "editable": false,
        "deletable": false,
        "id": "hjsZcbO-qlbg"
      },
      "outputs": [],
      "source": [
        "###\n",
        "### AUTOGRADER TEST - DO NOT REMOVE\n",
        "###\n"
      ]
    },
    {
      "cell_type": "markdown",
      "metadata": {
        "nbgrader": {
          "grade": false,
          "locked": true,
          "solution": false
        },
        "editable": false,
        "deletable": false,
        "id": "n7W7jGcdqlbg"
      },
      "source": [
        "### Applications of CNNs\n",
        "\n",
        "CNNs are excellent for determining the spatial information of the input images, such as edges, gradients etc. We will use the above `convolve()` function to show you how it can determine both vertical and horizontal edges of a given input image. To generate the vertical edges of an image, we place high values on one vertical half and low values on the other.\n"
      ]
    },
    {
      "cell_type": "code",
      "execution_count": null,
      "metadata": {
        "collapsed": true,
        "id": "8BfOTPledhS3",
        "nbgrader": {
          "grade": false,
          "locked": true,
          "solution": false
        },
        "editable": false,
        "deletable": false
      },
      "outputs": [],
      "source": [
        "def create_vertical_edge_image(dsize: Tuple = (64, 64)) -> np.ndarray:\n",
        "\n",
        "    \"\"\"\n",
        "    create_vertical_edge_image\n",
        "\n",
        "    A vertical edged test image is created.\n",
        "    For input dsize=(4, 4), the below array\n",
        "    is returned.\n",
        "\n",
        "    [255 255 0 0\n",
        "     255 255 0 0\n",
        "     255 255 0 0]\n",
        "\n",
        "    Parameters\n",
        "    ----------\n",
        "\n",
        "    dsize: Shape of the image to create. The\n",
        "    shape is of the form (height, width).\n",
        "\n",
        "    Returns\n",
        "    -------\n",
        "\n",
        "    A numpy array with shape dsize\n",
        "    \"\"\"\n",
        "\n",
        "    height, width = dsize\n",
        "    image = np.zeros(dsize, dtype=int)\n",
        "    split = width // 2\n",
        "    image[:, :split] = 255\n",
        "\n",
        "    return image"
      ]
    },
    {
      "cell_type": "code",
      "execution_count": null,
      "metadata": {
        "nbgrader": {
          "grade": false,
          "locked": true,
          "solution": false
        },
        "editable": false,
        "deletable": false,
        "colab": {
          "base_uri": "https://localhost:8080/",
          "height": 432
        },
        "id": "HMXzEHCsqlbh",
        "outputId": "e0b2da11-533e-496a-c39f-6a902fa2fea3"
      },
      "outputs": [
        {
          "output_type": "display_data",
          "data": {
            "text/plain": [
              "<Figure size 640x480 with 1 Axes>"
            ],
            "image/png": "[encoded data removed]"
          },
          "metadata": {}
        }
      ],
      "source": [
        "test_image = create_vertical_edge_image(dsize=(64,64))\n",
        "\n",
        "plt.imshow(test_image, cmap=\"gray\")\n",
        "plt.show(block=block_plot)\n"
      ]
    },
    {
      "cell_type": "code",
      "execution_count": null,
      "metadata": {
        "colab": {
          "base_uri": "https://localhost:8080/",
          "height": 432
        },
        "id": "zfx9VVC4qlbh",
        "outputId": "289d3c33-4471-4524-fe75-a6a4960295eb"
      },
      "outputs": [
        {
          "output_type": "display_data",
          "data": {
            "text/plain": [
              "<Figure size 640x480 with 1 Axes>"
            ],
            "image/png": "[encoded data removed]"
          },
          "metadata": {}
        }
      ],
      "source": [
        "vertical_kernel = np.array([[1, 0, -1], [1, 0, -1], [1, 0, -1]])\n",
        "\n",
        "vertical_edge = convolve(test_image, vertical_kernel)\n",
        "\n",
        "plt.imshow(vertical_edge, cmap=\"gray\")\n",
        "plt.show(block=block_plot)"
      ]
    },
    {
      "cell_type": "markdown",
      "metadata": {
        "nbgrader": {
          "grade": false,
          "locked": true,
          "solution": false
        },
        "editable": false,
        "deletable": false,
        "id": "prryAAnlqlbh"
      },
      "source": [
        "As you can see, we could successfully determine the vertical edges for the `test_image`. Now let’s use the convolution function to determine the horizontal edges as well. Similarly, to generate the horizontal edges of an  image, we will place high values on one horizontal half and low values on the other."
      ]
    },
    {
      "cell_type": "code",
      "execution_count": null,
      "metadata": {
        "collapsed": true,
        "id": "7V4fhuyYV5vT",
        "nbgrader": {
          "grade": false,
          "locked": true,
          "solution": false
        },
        "editable": false,
        "deletable": false
      },
      "outputs": [],
      "source": [
        "def create_horizontal_edge_image(dsize: Tuple = (64, 64)) -> np.ndarray:\n",
        "\n",
        "    \"\"\"\n",
        "    create_horizontal_edge_image\n",
        "\n",
        "    A vertical edged test image is created.\n",
        "    For input dsize=(4, 4), the below array\n",
        "    is returned.\n",
        "\n",
        "    [255 255 255 255\n",
        "     255 255 255 255\n",
        "     000 000 000 000\n",
        "     000 000 000 000]\n",
        "\n",
        "    Parameters\n",
        "    ----------\n",
        "\n",
        "    dsize: Shape of the image to create. The\n",
        "    shape is of the form (height, width).\n",
        "\n",
        "    Returns\n",
        "    -------\n",
        "\n",
        "    A numpy array with shape dsize\n",
        "    \"\"\"\n",
        "\n",
        "    height, width = dsize\n",
        "    image = np.zeros(dsize, dtype=int)\n",
        "    split = height // 2\n",
        "    image[:split, :] = 255\n",
        "\n",
        "    return image"
      ]
    },
    {
      "cell_type": "code",
      "execution_count": null,
      "metadata": {
        "id": "oamp7d-HzfcM",
        "nbgrader": {
          "grade": false,
          "locked": true,
          "solution": false
        },
        "editable": false,
        "deletable": false,
        "colab": {
          "base_uri": "https://localhost:8080/",
          "height": 432
        },
        "outputId": "b3410e14-984a-48b4-e600-d36641b320a1"
      },
      "outputs": [
        {
          "output_type": "display_data",
          "data": {
            "text/plain": [
              "<Figure size 640x480 with 1 Axes>"
            ],
            "image/png": "[encoded data removed]"
          },
          "metadata": {}
        }
      ],
      "source": [
        "input_image = create_horizontal_edge_image()\n",
        "\n",
        "plt.imshow(input_image, cmap=\"gray\")\n",
        "plt.show(block=block_plot)"
      ]
    },
    {
      "cell_type": "code",
      "execution_count": null,
      "metadata": {
        "colab": {
          "base_uri": "https://localhost:8080/",
          "height": 432
        },
        "id": "j3OUEu_bqlbh",
        "outputId": "ad0cebcd-a7a3-421f-eb0a-ca2dd270cb9d"
      },
      "outputs": [
        {
          "output_type": "display_data",
          "data": {
            "text/plain": [
              "<Figure size 640x480 with 1 Axes>"
            ],
            "image/png": "[encoded data removed]"
          },
          "metadata": {}
        }
      ],
      "source": [
        "horizontal_kernel = np.array([[1, 1, 1], [0, 0, 0], [-1, -1, -1]])\n",
        "\n",
        "horizontal_edge = convolve(input_image, horizontal_kernel)\n",
        "\n",
        "plt.imshow(horizontal_edge, cmap=\"gray\")\n",
        "plt.show(block=block_plot)"
      ]
    }
  ],
  "metadata": {
    "colab": {
      "provenance": [],
      "include_colab_link": true
    },
    "kernelspec": {
      "display_name": "Python 3.8",
      "language": "python",
      "name": "python38"
    },
    "language_info": {
      "codemirror_mode": {
        "name": "ipython",
        "version": 3
      },
      "file_extension": ".py",
      "mimetype": "text/x-python",
      "name": "python",
      "nbconvert_exporter": "python",
      "pygments_lexer": "ipython3",
      "version": "3.8.7"
    },
    "latex_envs": {
      "LaTeX_envs_menu_present": true,
      "autoclose": false,
      "autocomplete": true,
      "bibliofile": "biblio.bib",
      "cite_by": "apalike",
      "current_citInitial": 1,
      "eqLabelWithNumbers": true,
      "eqNumInitial": 1,
      "hotkeys": {
        "equation": "Ctrl-E",
        "itemize": "Ctrl-I"
      },
      "labels_anchors": false,
      "latex_user_defs": false,
      "report_style_numbering": false,
      "user_envs_cfg": false
    },
    "toc": {
      "base_numbering": 1,
      "nav_menu": [],
      "number_sections": false,
      "sideBar": true,
      "skip_h1_title": false,
      "title_cell": "Table of Contents",
      "title_sidebar": "Contents",
      "toc_cell": false,
      "toc_position": [],
      "toc_section_display": true,
      "toc_window_display": false
    },
    "varInspector": {
      "cols": {
        "lenName": 16,
        "lenType": 16,
        "lenVar": 40
      },
      "kernels_config": {
        "python": {
          "delete_cmd_postfix": "",
          "delete_cmd_prefix": "del ",
          "library": "var_list.py",
          "varRefreshCmd": "print(var_dic_list())"
        },
        "r": {
          "delete_cmd_postfix": ") ",
          "delete_cmd_prefix": "rm(",
          "library": "var_list.r",
          "varRefreshCmd": "cat(var_dic_list()) "
        }
      },
      "types_to_exclude": [
        "module",
        "function",
        "builtin_function_or_method",
        "instance",
        "_Feature"
      ],
      "window_display": false
    }
  },
  "nbformat": 4,
  "nbformat_minor": 0
}