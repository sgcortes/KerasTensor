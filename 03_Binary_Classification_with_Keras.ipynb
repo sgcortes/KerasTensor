{
  "cells": [
    {
      "cell_type": "markdown",
      "metadata": {
        "id": "view-in-github",
        "colab_type": "text"
      },
      "source": [
        "<a href=\"https://colab.research.google.com/github/sgcortes/KerasTensor/blob/master/03_Binary_Classification_with_Keras.ipynb\" target=\"_parent\"><img src=\"https://colab.research.google.com/assets/colab-badge.svg\" alt=\"Open In Colab\"/></a>"
      ]
    },
    {
      "cell_type": "markdown",
      "id": "69947a22",
      "metadata": {
        "id": "69947a22"
      },
      "source": [
        "<h1 style=\"font-size:30px;\">Binary Classification using Keras</h1>"
      ]
    },
    {
      "cell_type": "markdown",
      "id": "5a2248a9",
      "metadata": {
        "id": "5a2248a9"
      },
      "source": [
        "In this notebook, we will introduce the topic of **Binary classification**. In machine learning, classification refers to the predictive modeling problem of identifying which of a set of categories an observation belongs to. The categories are referred to as classes. In the figure below, we are showing a hypothetical dataset that represents two classes. We have color coded the classes as red and blue, but this is only for visualization purposes. The classes themselves are characterized by two features ($x1$ and $x2$). Our task is to define a model that will predict the correct class based on the value of two input features. This is the definition of binary classification. The model that we develop will lead to a linear decision boundary, as shown in the figure. Later on, in this module we will cover the topic of multinomial classification, which involves three or more classes.\n",
        "\n",
        "<img src='https://learnopencv.com/wp-content/uploads/2022/01/c4_02_binary_classification_data.jpg' width=1000 align='center'>\n",
        "\n",
        "## Table of Contents\n",
        "* [1 Binary Classification](#1-Binary-Classification)\n",
        "* [2 Mathematical Foundation](#2-Mathematical-Foundation)\n",
        "* [3 Model Architecture](#3-Model-Architecture)\n",
        "* [4 Data Generation](#4-Data-Generation)\n",
        "* [5 Data Preparation](#5-Data-Preparation)\n",
        "* [6 Training Workflow in Keras](#6-Training-Workflow-in-Keras)\n",
        "* [7 Model Evaluation](#7-Model-Evaluation)\n",
        "* [8 Conclusion](#8-Conclusion)"
      ]
    },
    {
      "cell_type": "markdown",
      "id": "4e4c46f9",
      "metadata": {
        "id": "4e4c46f9"
      },
      "source": [
        "## 1 Binary Classification "
      ]
    },
    {
      "cell_type": "markdown",
      "id": "1d860e67",
      "metadata": {
        "id": "1d860e67"
      },
      "source": [
        "Before we begin, let's set the stage with a simple binary classification problem to introduce the objective and the terminology. Suppose, we have some data that contains two features that are known to be good discriminators for whether a tumor is either benign or malignant. In this example, we have two classes (benign and malignant), and we have two features (say, $𝑥_1$ and $x_2$). For this discussion, it's not important what these features represent at this point, but let's assume they are real-valued quantities that can be measured. The two classes, by definition, are categorical, and we assign each class a numerical label such \"benign\" = 0 and \"malignant\" = 1.\n",
        "\n",
        "Our task is to define a model that will predict the correct class based on the value of two input features. So, rather than predicting a real-valued number as we did with regression, our goal is to predict the correct class according to its class label. Note that we can use any number of features available. The reason this is called binary classification is that we only have two classes.\n",
        "\n",
        "In the next section, we will develop the mathematical foundation for binary classification, which is known as Logistic Regression, and in the subsequent sections, we will demonstrate how to use Keras to model binary classification using a single perception with a sigmoid activation function. Much of the material covered in this notebook has been introduced in the two previous notebooks on regression, but there are a few key differences that allow us to transform the problem from regression (predicting a real-valued number) to the problem of classification (predicting a class label)."
      ]
    },
    {
      "cell_type": "markdown",
      "id": "c0ba27b7",
      "metadata": {
        "id": "c0ba27b7"
      },
      "source": [
        "## 2 Mathematical Foundation\n",
        "\n",
        "In Module 1, we introduced the mathematical model for **linear regression** in which we developed a linear model for the predicted output based on the weighted sum of the input features. The output in this case, is a real-valued number. To recap, we developed the following model:\n",
        "\n",
        "$$ h_\\theta(x) = y' = \\theta_0 + \\theta_1x_1 + \\theta_2x_2 + ...$$\n",
        "\n",
        "\n",
        "As before, the general notation can be simplified to the following by letting $x_0 = 1$ which means that $\\theta_0$ becomes the bias term, and therefore the above expression can be simplified as follows: \n",
        "\n",
        "$$ h(x) = y' = \\sum_{i=0}^{n} \\theta_ix_i = \\theta^Tx $$\n",
        "\n",
        "Where $y'$ is a real-valued predicted target variable in a regression problem. Let's now see how this can be extended to model a classification problem.\n",
        "\n",
        "### 2.1 Classification and the Logistic Function\n",
        "\n",
        "In a **classification** problem, the predicted output is a categorical label that specifies which class the input sample belongs to. But how do we accomplish this? This is where the **logistic function** comes to the rescue as defined below:\n",
        "\n",
        "$$ y' = \\sigma(z) = \\frac{1}{1 + e^{-z}} $$\n",
        "\n",
        "\n",
        "This function is also commonly referred to as a **sigmoid** function because the shape resembles an 's' as shown below. Here, $z = \\theta^Tx$, and the output of this function is our new prediction $y'$ for classification.  Notice that $\\sigma(z)$ tends towards 1 as $z \\to +\\infty$, and $\\sigma(z)$ tends towards 0 as $z \\to -\\infty$. And further, the function is bounded between 0 and 1.\n",
        "\n",
        "<img src='https://learnopencv.com/wp-content/uploads/2022/01/c4_02_sigmoid_function.png' width=350 align='center'><br/>\n",
        "\n",
        "Using this function, we can now transform our weighted inputs to produce a real-valued number bounded between 0 and 1 (where 0 represents one class and 1 represents the other class). In a binary classifcation problem, these two classes are sometimes referred to as the negative and positive classes, respectively.\n",
        "\n",
        "### 2.2 Probabilistic Interpretation\n",
        "Since this function is bounded between 0 and 1, we can now think of the output from this function as the probability that an input sample belongs to class 1(or the positive class). \n",
        "\n",
        "$$P(y\\ =\\ 1| x;\\theta) = y'$$\n",
        "\n",
        "And therefore, the probability that the input sample belongs class 0 (or the negative class) is:\n",
        "\n",
        "$$P(y\\ =\\ 0| x;\\theta) = 1 - y'$$\n",
        "\n",
        "These two expressions can be conveniently combined into a single equation as shown below, where $y$ represents the ground truth (or label) for the class.\n",
        "\n",
        "$$p(y\\ |\\ x;\\theta) = (y')\\ ^y\\ (1 - y')^{1-y}$$\n",
        "\n",
        "The above expression is read as: The probability of $y$ given $x$, parameterized by $\\theta$. For example, an input of $z = 0$, would correspond to $y'=0.5$ indicating that the input sample is equally likely to be from either class. Furthermore, an input value of $z = 2.5$, would correspond to a greater than 90% probability of the input sample belonging to class 1. So we can now see that since this function is monotonically increasing, we can use a single threshold to determine if the input sample corresponds to class 0 or to class 1. \n",
        "\n",
        "### 2.3 Binary Cross Entropy Loss\n",
        "\n",
        "The question now becomes, how do we solve for the parameters of the model ($\\theta$)? This can be accomplished using the technique of maximum likelihood estimation (MLE) which is beyond the scope of this discussion, but we will brielfy provide the intuition for how this is done be developing an appropriate loss functon for binary classification. Let's start with the idea that we would like to learn the weights that maximize the probabilty of the correct label given by:\n",
        "\n",
        "$$P(y\\ |\\ x;\\theta) = (y')^y\\ (1 - y')^{1-y}$$\n",
        "\n",
        "If we take the log of both sides of the above equation, we get a very convenient mathematical expression that will not affect the optimization (maximizing the probability will also maximize the log of the probability).\n",
        "\n",
        "$$log\\ [p(y\\ |\\ x;\\theta)\\ ] = y\\ log(y') + (1-y)\\ log(1 - y')$$\n",
        "\n",
        "In order to turn this into a loss function that we can minimize, we can take the negative log of the above probability that leads us to the **Binary Cross Entropy Loss Function** shown below:\n",
        "\n",
        "$$J(y') = - y\\ log(y')\\ -\\  (1-y)\\ log(1 - y')$$\n",
        "\n",
        "And recall that with $z = \\theta^Tx$, the predicted value for a given input sample is:\n",
        "\n",
        "$$ y' = \\sigma(z) = \\frac{1}{1 + e^{-z}} $$\n",
        "\n",
        "And therefore, if \n",
        "\n",
        "- $\\sigma(z) > 0.5$ then input belongs to the positive class or class `1`\n",
        "- $\\sigma(z) < 0.5$ then input belongs to the negative class or class `0`\n",
        "\n",
        "A few numerical examples are shown below that indicate the loss based on the true class $y$ and the predicted value $y'$. Notice that when the activation function output ($y'$) is close to the true label the loss is very small.\n",
        "\n",
        "| y  | y'  |  Loss |Pred. Class|       Notes|\n",
        "|:-: |-----|-------|:-:|:-: |\n",
        "| 1  | .90 | 0.046  | 1 |y' > 0.5, assigned to class 1|\n",
        "| 1  | .10 | 1.000  | 0 |y' < 0.5, assigned to class 0|\n",
        "| 0  | .01 | 0.004  | 0 | y' < 0.5, assigned to class 0|\n",
        "| 0  | .99 | 1.301  | 1 | y' > 0.5, assigned to class 1|\n",
        "\n",
        "**Note**: This binary classification model is often referred to as **Logistic Regression** because it is based on the *Logistic* function, but this has no relation to the regression problems we previously discussed. It is purely categorical and refers to classification, not regression. The terminology is unfortunate, but it is long-standing.\n",
        "\n",
        "As we will see further below, we can specify Binary Cross Entropy as the loss function in Keras, and select an optimizer to train a binary classification model."
      ]
    },
    {
      "cell_type": "markdown",
      "id": "b129abcf",
      "metadata": {
        "id": "b129abcf"
      },
      "source": [
        "## 3 Model Architecture\n",
        "The model architecture below for binary classification is similar to regression, but let's highlight the differences. First, notice that we use a sigmoid activation function and that the predicted output is a label rather than a real valued number. The label indcates which class is predicted. In this example, we are assuming binary classification, so we have two labels (say, 0 and 1). Note that binary classification can use any number of input features. In this notebook, we will use two input features, but this has nothing to do with the fact that we are performing binary classification. As we will see later in the course, binary classification can be performed using literally thousands of input features. "
      ]
    },
    {
      "cell_type": "markdown",
      "id": "c7448ffc",
      "metadata": {
        "id": "c7448ffc"
      },
      "source": [
        "<img src='https://learnopencv.com/wp-content/uploads/2022/01/c4_02_binary_classification_wx_b.png' width=700 align='center'><br/>"
      ]
    },
    {
      "cell_type": "code",
      "execution_count": null,
      "id": "6787311a",
      "metadata": {
        "ExecuteTime": {
          "end_time": "2021-12-27T10:46:15.720190Z",
          "start_time": "2021-12-27T10:46:14.955194Z"
        },
        "id": "6787311a"
      },
      "outputs": [],
      "source": [
        "import os\n",
        "import random\n",
        "import math\n",
        "import numpy as np\n",
        "import seaborn as sn\n",
        "import tensorflow as tf\n",
        "import matplotlib.pyplot as plt  # one of the best graphics library for python\n",
        "import matplotlib.animation as animation\n",
        "from tensorflow.keras import layers\n",
        "from tensorflow.keras import Sequential\n",
        "from tensorflow.keras.layers import Dense\n",
        "\n",
        "plt.rcParams[\"figure.figsize\"] = (15, 6)\n",
        "plt.rcParams['axes.titlesize'] = 16\n",
        "plt.rcParams['axes.labelsize'] = 14\n",
        "\n",
        "block_plot = False"
      ]
    },
    {
      "cell_type": "markdown",
      "id": "83aed6e9",
      "metadata": {
        "id": "83aed6e9"
      },
      "source": [
        "Set random number seeds to maintain reproducability."
      ]
    },
    {
      "cell_type": "code",
      "execution_count": null,
      "id": "f6afc6ae",
      "metadata": {
        "ExecuteTime": {
          "end_time": "2021-12-27T10:46:22.649704Z",
          "start_time": "2021-12-27T10:46:22.638713Z"
        },
        "id": "f6afc6ae"
      },
      "outputs": [],
      "source": [
        "SEED_VALUE = 42\n",
        "\n",
        "# Fix seed to make training deterministic.\n",
        "random.seed(SEED_VALUE)\n",
        "np.random.seed(SEED_VALUE)\n",
        "tf.random.set_seed(SEED_VALUE)\n",
        "os.environ[\"TF_DETERMINISTIC_OPS\"] = \"1\"\n",
        "\n",
        "# For GPU.\n",
        "os.environ[\"CUDA_VISIBLE_DEVICES\"] = \"0\"\n",
        "os.environ[\"TF_CUDNN_DETERMINISTIC\"] = \"1\""
      ]
    },
    {
      "cell_type": "markdown",
      "id": "a6b8a523",
      "metadata": {
        "id": "a6b8a523"
      },
      "source": [
        "## 4 Data Generation"
      ]
    },
    {
      "cell_type": "markdown",
      "id": "411c4f3e",
      "metadata": {
        "id": "411c4f3e"
      },
      "source": [
        "Here, we are going to generate some synthetic data to represent two features from each of the two classes."
      ]
    },
    {
      "cell_type": "code",
      "execution_count": null,
      "id": "55fdac7f",
      "metadata": {
        "ExecuteTime": {
          "end_time": "2021-12-27T10:46:22.964733Z",
          "start_time": "2021-12-27T10:46:22.951736Z"
        },
        "id": "55fdac7f"
      },
      "outputs": [],
      "source": [
        "def generate_data(mean_0=[4.0, 20.0], stddev_0=[1.0, 1.0],\n",
        "                  mean_1=[5.5, 23.0], stddev_1=[0.6, 0.8],\n",
        "                  num_points_0=200, num_points_1=200):\n",
        "    \n",
        "    class_0_points = tf.random.normal((num_points_0, 2), mean=mean_0,  stddev=stddev_0)\n",
        "    class_1_points = tf.random.normal((num_points_1, 2), mean=mean_1,  stddev=stddev_1)\n",
        "    \n",
        "    return class_0_points, class_1_points"
      ]
    },
    {
      "cell_type": "markdown",
      "id": "b954a337",
      "metadata": {
        "id": "b954a337"
      },
      "source": [
        "### 4.1 Visualize the Dataset"
      ]
    },
    {
      "cell_type": "code",
      "execution_count": null,
      "id": "10666831",
      "metadata": {
        "ExecuteTime": {
          "end_time": "2021-12-27T10:46:25.778589Z",
          "start_time": "2021-12-27T10:46:23.263734Z"
        },
        "colab": {
          "base_uri": "https://localhost:8080/",
          "height": 504
        },
        "id": "10666831",
        "outputId": "b541560f-0624-49ad-acb3-69646a3e6257"
      },
      "outputs": [
        {
          "data": {
            "image/png": "[encoded data removed]",
            "text/plain": [
              "<Figure size 1440x720 with 1 Axes>"
            ]
          },
          "metadata": {
            "needs_background": "light"
          },
          "output_type": "display_data"
        }
      ],
      "source": [
        "class_0_points, class_1_points = generate_data()\n",
        "\n",
        "plt.figure(figsize=(20, 10))\n",
        "plt.scatter(class_0_points[:, 0], class_0_points[:, 1], color=\"b\", alpha=0.5, label=\"Class:0\")\n",
        "plt.scatter(class_1_points[:, 0], class_1_points[:, 1], color=\"r\", alpha=0.5, label=\"Class:1\")\n",
        "plt.legend()\n",
        "plt.xlabel(\"x1\")\n",
        "plt.ylabel(\"x2\")\n",
        "plt.xlim([0, 10])\n",
        "plt.ylim([16, 28])\n",
        "plt.grid(True)\n",
        "\n",
        "plt.show(block=block_plot)\n",
        "plt.close()"
      ]
    },
    {
      "cell_type": "markdown",
      "id": "86ae47f4",
      "metadata": {
        "id": "86ae47f4"
      },
      "source": [
        "## 5 Data Preparation"
      ]
    },
    {
      "cell_type": "markdown",
      "id": "e1ce5c06",
      "metadata": {
        "id": "e1ce5c06"
      },
      "source": [
        "The following function will combine the features and labels from each class into a single data array and label array."
      ]
    },
    {
      "cell_type": "code",
      "execution_count": null,
      "id": "21aa5acb",
      "metadata": {
        "ExecuteTime": {
          "end_time": "2021-12-27T10:46:26.612687Z",
          "start_time": "2021-12-27T10:46:26.604688Z"
        },
        "id": "21aa5acb"
      },
      "outputs": [],
      "source": [
        "def prepare_data(class_0_points, class_1_points):\n",
        "\n",
        "    label_zero = np.zeros(class_0_points.shape[0], dtype=np.float32)\n",
        "    label_one = np.ones(class_1_points.shape[0], dtype=np.float32)\n",
        "    \n",
        "    labels = np.expand_dims(tf.concat([label_zero, label_one], axis=0), 1)\n",
        "    data_points = np.vstack([class_0_points, class_1_points],)\n",
        "\n",
        "    print(\"Data points size: {}\".format(data_points.shape))\n",
        "    print(\"Label size: {}\".format(labels.shape))\n",
        "    return data_points, labels"
      ]
    },
    {
      "cell_type": "code",
      "execution_count": null,
      "id": "bf6acdda",
      "metadata": {
        "ExecuteTime": {
          "end_time": "2021-12-27T10:46:27.530839Z",
          "start_time": "2021-12-27T10:46:27.517818Z"
        },
        "colab": {
          "base_uri": "https://localhost:8080/"
        },
        "id": "bf6acdda",
        "outputId": "47491f5c-72de-48bb-97b2-26d0d93f7daa",
        "scrolled": false
      },
      "outputs": [
        {
          "name": "stdout",
          "output_type": "stream",
          "text": [
            "Data points size: (400, 2)\n",
            "Label size: (400, 1)\n"
          ]
        }
      ],
      "source": [
        "# Combine class and generate class labels.\n",
        "X_train, y_train = prepare_data(class_0_points, class_1_points)"
      ]
    },
    {
      "cell_type": "markdown",
      "id": "f597debb",
      "metadata": {
        "id": "f597debb"
      },
      "source": [
        "## 6 Keras Training Workflow \n",
        "\n",
        "The training workflow in Keras is the same as discussed in the previous notebooks on regression."
      ]
    },
    {
      "cell_type": "markdown",
      "id": "5fd04912",
      "metadata": {
        "id": "5fd04912"
      },
      "source": [
        "<img src='https://learnopencv.com/wp-content/uploads/2022/01/c4_02_keras_training_workflow.png' width=600 align='left'><br/>"
      ]
    },
    {
      "cell_type": "markdown",
      "id": "628d151e",
      "metadata": {
        "id": "628d151e"
      },
      "source": [
        "### 6.1 Define the Normalization Layer"
      ]
    },
    {
      "cell_type": "code",
      "execution_count": null,
      "id": "882aaca7",
      "metadata": {
        "id": "882aaca7",
        "outputId": "3589c33b-0b68-41b4-b5a6-bbadbcc25837"
      },
      "outputs": [
        {
          "name": "stdout",
          "output_type": "stream",
          "text": [
            "(400, 2)\n",
            "Mean:   [ 4.7564964 21.488708 ]\n",
            "Var:    [1.3567888 3.0549154]\n",
            "Count:  400\n"
          ]
        }
      ],
      "source": [
        "print(X_train.shape)\n",
        "\n",
        "# Set 'axis' to be the axis of the feature dimension. Since the input shape is (num_points, 2), we need to set\n",
        "# axis=1 to indicate the feature axis. Setting axis=-1 would also work in this case since a -1 indicates \n",
        "# the last axis. \n",
        "data_normalizer = layers.Normalization(input_shape=[2,], axis=1)\n",
        "\n",
        "# Call the `adapt` method to apply the normalization.\n",
        "data_normalizer.adapt(X_train)\n",
        "\n",
        "print('Mean:  ', data_normalizer.mean.numpy()[0])\n",
        "print('Var:   ', data_normalizer.variance.numpy()[0])\n",
        "print('Count: ', data_normalizer.count.numpy())"
      ]
    },
    {
      "cell_type": "markdown",
      "id": "8fe0579d",
      "metadata": {
        "id": "8fe0579d"
      },
      "source": [
        "### 6.2 Model Architecture Definition "
      ]
    },
    {
      "cell_type": "code",
      "execution_count": null,
      "id": "7a349e7c",
      "metadata": {
        "ExecuteTime": {
          "end_time": "2021-12-27T10:42:45.586813Z",
          "start_time": "2021-12-27T10:42:45.165785Z"
        },
        "id": "7a349e7c",
        "outputId": "76273353-2a93-43f9-ccbe-a959b6b11c78"
      },
      "outputs": [
        {
          "name": "stdout",
          "output_type": "stream",
          "text": [
            "Model: \"sequential\"\n",
            "_________________________________________________________________\n",
            " Layer (type)                Output Shape              Param #   \n",
            "=================================================================\n",
            " normalization (Normalizatio  (None, 2)                5         \n",
            " n)                                                              \n",
            "                                                                 \n",
            " dense (Dense)               (None, 1)                 3         \n",
            "                                                                 \n",
            "=================================================================\n",
            "Total params: 8\n",
            "Trainable params: 3\n",
            "Non-trainable params: 5\n",
            "_________________________________________________________________\n"
          ]
        }
      ],
      "source": [
        "# Instantiate the model.\n",
        "model = tf.keras.Sequential()\n",
        "\n",
        "# Add the normalization layer.\n",
        "model.add(data_normalizer)\n",
        "\n",
        "# Add the single neuron.\n",
        "model.add(Dense(1, input_shape=(2,), activation=\"sigmoid\"))\n",
        "\n",
        "# Display the model summary.\n",
        "model.summary()"
      ]
    },
    {
      "cell_type": "markdown",
      "id": "cc442a99",
      "metadata": {
        "id": "cc442a99"
      },
      "source": [
        "### 6.3 Compile the Model"
      ]
    },
    {
      "cell_type": "code",
      "execution_count": null,
      "id": "2a336f39",
      "metadata": {
        "ExecuteTime": {
          "end_time": "2021-12-27T10:42:45.730788Z",
          "start_time": "2021-12-27T10:42:45.701790Z"
        },
        "id": "2a336f39"
      },
      "outputs": [],
      "source": [
        "model.compile(optimizer='sgd', \n",
        "              loss='binary_crossentropy', \n",
        "              metrics='binary_accuracy')"
      ]
    },
    {
      "cell_type": "markdown",
      "id": "a37ce271",
      "metadata": {
        "id": "a37ce271"
      },
      "source": [
        "### 6.4 Train the Model"
      ]
    },
    {
      "cell_type": "code",
      "execution_count": null,
      "id": "e8e400e3",
      "metadata": {
        "ExecuteTime": {
          "end_time": "2021-12-27T10:43:24.416826Z",
          "start_time": "2021-12-27T10:42:45.749792Z"
        },
        "id": "e8e400e3",
        "scrolled": false
      },
      "outputs": [],
      "source": [
        "history = model.fit(\n",
        "    x=X_train, \n",
        "    y=y_train, \n",
        "    batch_size=16, \n",
        "    epochs=100, \n",
        "    shuffle=True,\n",
        "    verbose=False)"
      ]
    },
    {
      "cell_type": "code",
      "execution_count": null,
      "id": "55b7c9f5",
      "metadata": {
        "id": "55b7c9f5",
        "outputId": "52aabd56-7813-4db6-a0c2-72714746a9b3",
        "scrolled": true
      },
      "outputs": [
        {
          "data": {
            "text/plain": [
              "dict_keys(['loss', 'binary_accuracy'])"
            ]
          },
          "execution_count": 13,
          "metadata": {},
          "output_type": "execute_result"
        }
      ],
      "source": [
        "history.history.keys()"
      ]
    },
    {
      "cell_type": "code",
      "execution_count": null,
      "id": "84746efa",
      "metadata": {
        "id": "84746efa"
      },
      "outputs": [],
      "source": [
        "loss = history.history['loss']\n",
        "binary_accuracy = history.history['binary_accuracy']"
      ]
    },
    {
      "cell_type": "code",
      "execution_count": null,
      "id": "4e64893d",
      "metadata": {
        "ExecuteTime": {
          "end_time": "2021-12-27T10:43:24.953825Z",
          "start_time": "2021-12-27T10:43:24.941828Z"
        },
        "colab": {
          "base_uri": "https://localhost:8080/",
          "height": 408
        },
        "id": "4e64893d",
        "outputId": "972b796f-1969-45f6-b90f-747be1a1cdc9"
      },
      "outputs": [
        {
          "data": {
            "image/png": "[encoded data removed]",
            "text/plain": [
              "<Figure size 1440x432 with 1 Axes>"
            ]
          },
          "metadata": {
            "needs_background": "light"
          },
          "output_type": "display_data"
        }
      ],
      "source": [
        "plt.figure(figsize=(20, 6))\n",
        "plt.plot(range(len(loss)), loss)\n",
        "plt.xlabel(\"Epoch\")\n",
        "plt.ylabel(\"Loss\")\n",
        "plt.title(\"Training Loss\")\n",
        "plt.xlim([0, 100])\n",
        "plt.ylim([0, 1])\n",
        "plt.grid(True)\n",
        "\n",
        "plt.show(block=block_plot)\n",
        "plt.close()"
      ]
    },
    {
      "cell_type": "markdown",
      "id": "mvbTwoWKOkLJ",
      "metadata": {
        "id": "mvbTwoWKOkLJ"
      },
      "source": [
        "## 7 Model Evaluation"
      ]
    },
    {
      "cell_type": "markdown",
      "id": "39e59885",
      "metadata": {
        "id": "39e59885"
      },
      "source": [
        "### 7.1 Evaluate the Model Accuracy on the Training Data"
      ]
    },
    {
      "cell_type": "code",
      "execution_count": null,
      "id": "hqVDaGy4ONKH",
      "metadata": {
        "colab": {
          "base_uri": "https://localhost:8080/"
        },
        "id": "hqVDaGy4ONKH",
        "outputId": "902fb1ff-910f-4d65-fa4d-8d4f74e203df",
        "scrolled": true
      },
      "outputs": [
        {
          "name": "stdout",
          "output_type": "stream",
          "text": [
            "25/25 [==============================] - 0s 608us/step - loss: 0.1258 - binary_accuracy: 0.9650\n",
            "\n",
            "\n",
            "Final Model stats:\n",
            "Final accuracy: 0.9649999737739563\n",
            "Final loss: 0.12576989829540253\n"
          ]
        }
      ],
      "source": [
        "final_stats = model.evaluate(X_train, y_train, batch_size=16, return_dict=True)\n",
        "\n",
        "print(\"\\n\\nFinal Model stats:\")\n",
        "print(f\"Final accuracy:\", final_stats['binary_accuracy'])\n",
        "print(f\"Final loss:\", final_stats['loss'])"
      ]
    },
    {
      "cell_type": "code",
      "execution_count": null,
      "id": "67d18110",
      "metadata": {
        "id": "67d18110",
        "outputId": "c9582b45-c49f-4187-baa1-2b527d495e01",
        "scrolled": false
      },
      "outputs": [
        {
          "data": {
            "image/png": "[encoded data removed]",
            "text/plain": [
              "<Figure size 1440x432 with 1 Axes>"
            ]
          },
          "metadata": {
            "needs_background": "light"
          },
          "output_type": "display_data"
        }
      ],
      "source": [
        "plt.figure(figsize=(20, 6))\n",
        "plt.plot(range(len(binary_accuracy)), binary_accuracy)\n",
        "plt.xlabel(\"Epoch\")\n",
        "plt.ylabel(\"Classification Accuracy\")\n",
        "plt.title(\"Train Accuracy\")\n",
        "plt.grid(True)\n",
        "plt.xlim([0, 100]);\n",
        "plt.ylim([0, 1]);"
      ]
    },
    {
      "cell_type": "markdown",
      "id": "b0886efe",
      "metadata": {
        "id": "b0886efe"
      },
      "source": [
        "### 7.2 Model Prediction\n",
        "\n",
        "Let's see how the model performs on a couple of example data points. Feel free to edit the code below and try other values for the features."
      ]
    },
    {
      "cell_type": "code",
      "execution_count": null,
      "id": "9d2dbf4a",
      "metadata": {
        "id": "9d2dbf4a",
        "outputId": "9d06c2d9-cf65-40e6-b4a6-639a03cede84"
      },
      "outputs": [
        {
          "name": "stdout",
          "output_type": "stream",
          "text": [
            "\n",
            "Tumor-1:  Benign\n",
            "Tumor-2:  Malignant\n"
          ]
        }
      ],
      "source": [
        "# Use the predict() method in Keras to get a predicted score for some example input features.\n",
        "pred_score_1 = model.predict([ 5.0, 21.0 ])\n",
        "pred_score_2 = model.predict([ 5.0, 22.0 ])\n",
        "\n",
        "# Define a function that maps the predicted score to the appropriate class name.\n",
        "def pred_class(pred):\n",
        "    \n",
        "    if pred > 0.5:\n",
        "        class_label = 'Malignant'\n",
        "    else:\n",
        "        class_label = 'Benign'\n",
        "        \n",
        "    return class_label\n",
        "        \n",
        "class_label_1 = pred_class(pred_score_1)\n",
        "class_label_2 = pred_class(pred_score_2)\n",
        "\n",
        "print('')\n",
        "print('Tumor-1: ', class_label_1)\n",
        "print('Tumor-2: ', class_label_2)"
      ]
    },
    {
      "cell_type": "markdown",
      "id": "e574bb7a",
      "metadata": {
        "id": "e574bb7a"
      },
      "source": [
        "### 7.3 Model Diagnostics: The Role of the Activation Function\n",
        "\n",
        "In this section we will create some diagnostics plots to better illustrate how binary classificaton actually works. In order to create these diagnostics"
      ]
    },
    {
      "cell_type": "markdown",
      "id": "447fe224",
      "metadata": {
        "id": "447fe224"
      },
      "source": [
        "### <font style=\"color:rgb(50,120,230)\">Define two convenience functions</font>"
      ]
    },
    {
      "cell_type": "code",
      "execution_count": null,
      "id": "d094b420",
      "metadata": {
        "id": "d094b420"
      },
      "outputs": [],
      "source": [
        "# Neuron: WX + B\n",
        "def wx_plus_b(W, X, B):\n",
        "    return tf.matmul(X, W) + B\n",
        "\n",
        "# Sigmoid activation.\n",
        "def sigmoid(z):\n",
        "    return 1 / (1 + tf.math.exp(-z))"
      ]
    },
    {
      "cell_type": "markdown",
      "id": "60a1afcd",
      "metadata": {
        "id": "60a1afcd"
      },
      "source": [
        "### <font style=\"color:rgb(50,120,230)\">Retrieve weights from the trained model</font>"
      ]
    },
    {
      "cell_type": "code",
      "execution_count": null,
      "id": "3e920928",
      "metadata": {
        "id": "3e920928",
        "outputId": "9c731a43-67e1-4d9d-a1b9-f9e59c715822",
        "scrolled": false
      },
      "outputs": [
        {
          "name": "stdout",
          "output_type": "stream",
          "text": [
            "Weights associated with normalized data\n",
            "b:  [-0.16744046]\n",
            "w1:  1.5543913\n",
            "w2:  2.3708138\n",
            "\n",
            "\n",
            "Weights associated with unnormalized data\n",
            "b:  [-35.662735]\n",
            "w1:  1.3344559098434887\n",
            "w2:  1.3564314763603234\n"
          ]
        }
      ],
      "source": [
        "# Retrieve weights from the trained model.\n",
        "weights = model.layers[1].get_weights()[0]\n",
        "w1 = weights[0][0]\n",
        "w2 = weights[1][0]\n",
        "b  = model.layers[1].get_weights()[1] \n",
        "    \n",
        "print('Weights associated with normalized data')\n",
        "print('b: ',b)\n",
        "print('w1: ',w1)\n",
        "print('w2: ',w2)\n",
        "print('\\n')\n",
        "\n",
        "# Retrieve normalization statistics.\n",
        "norm_mean = data_normalizer.mean.numpy()[0]\n",
        "norm_var = data_normalizer.variance.numpy()[0]\n",
        "\n",
        "std_1 = math.sqrt(norm_var[0])\n",
        "std_2 = math.sqrt(norm_var[1])\n",
        "\n",
        "mean_1 = norm_mean[0]\n",
        "mean_2 = norm_mean[1]\n",
        "\n",
        "# Unnormalize the weights for use in diagnostics.\n",
        "w1 = w1/std_1\n",
        "w2 = w2/std_2\n",
        "b = b - w1*mean_1 - w2*mean_2\n",
        "    \n",
        "print('Weights associated with unnormalized data')\n",
        "print('b: ',b)\n",
        "print('w1: ',w1)\n",
        "print('w2: ',w2)"
      ]
    },
    {
      "cell_type": "markdown",
      "id": "6a3fe92d",
      "metadata": {
        "id": "6a3fe92d"
      },
      "source": [
        "### <font style=\"color:rgb(50,120,230)\">Plot the sigmoid activations</font>"
      ]
    },
    {
      "cell_type": "code",
      "execution_count": null,
      "id": "9cad9edd",
      "metadata": {
        "id": "9cad9edd",
        "outputId": "7c77d424-51d6-4a2d-daba-69022709c5ab",
        "scrolled": false
      },
      "outputs": [
        {
          "data": {
            "image/png": "[encoded data removed]",
            "text/plain": [
              "<Figure size 1440x504 with 1 Axes>"
            ]
          },
          "metadata": {
            "needs_background": "light"
          },
          "output_type": "display_data"
        }
      ],
      "source": [
        "W = np.zeros((2, 1))\n",
        "W[0][0] = w1\n",
        "W[1][0] = w2\n",
        "\n",
        "# Compute sigmoid activations for class 0.\n",
        "z_0 = wx_plus_b(W, class_0_points, b)\n",
        "y_pred_0 = sigmoid(z_0)\n",
        "\n",
        "# Compute sigmoid activations for class 1.\n",
        "z_1 = wx_plus_b(W, class_1_points, b)\n",
        "y_pred_1 = sigmoid(z_1)\n",
        "\n",
        "plt.figure(figsize=(20, 7))\n",
        "plt.scatter(z_0, y_pred_0, s=20, color=\"b\", alpha=0.5, label=\"Class:0\")\n",
        "plt.scatter(z_1, y_pred_1, s=20, color=\"r\", alpha=0.5, label=\"Class:0\")\n",
        "plt.plot([0, 0], [0, 1], color=\"darkgray\")\n",
        "plt.plot([-10, 10], [0.5, 0.5], color=\"darkgray\")\n",
        "plt.xlabel('z')\n",
        "plt.ylabel('Sigmoid(z)')\n",
        "plt.grid(False)\n",
        "plt.xlim([-10, 10])\n",
        "plt.ylim([0, 1]);"
      ]
    },
    {
      "cell_type": "markdown",
      "id": "5fa38811",
      "metadata": {
        "id": "5fa38811"
      },
      "source": [
        "### 7.4 Model Diagnostics: Plot the Decision Boundary"
      ]
    },
    {
      "cell_type": "markdown",
      "id": "ae17e5c6",
      "metadata": {
        "id": "ae17e5c6"
      },
      "source": [
        "We will plot the decision boundary using the weight and biases obtained from training the network."
      ]
    },
    {
      "cell_type": "code",
      "execution_count": null,
      "id": "bd57aee0",
      "metadata": {
        "id": "bd57aee0"
      },
      "outputs": [],
      "source": [
        "def plot_decision_boundary(b, w1, w2, class_0_points, class_1_points):\n",
        "    plt.figure(figsize=(20, 8))\n",
        "    plt.scatter(class_0_points[:, 0], class_0_points[:, 1], color=\"b\", alpha=0.5, label=\"Class:0\")\n",
        "    plt.scatter(class_1_points[:, 0], class_1_points[:, 1], color=\"r\", alpha=0.5, label=\"Class:1\")\n",
        "            \n",
        "    x1 = tf.linspace(0.0, 10.0, 1000)\n",
        "    x2 = -(w1/w2)*x1 - b/w2\n",
        "        \n",
        "    plt.plot(x1, x2, c=\"black\", alpha=.5)\n",
        "    plt.xlabel(\"x1\") \n",
        "    plt.ylabel(\"x2\")\n",
        "    plt.xlim([0, 10])\n",
        "    plt.ylim([16, 28])\n",
        "    plt.grid(True)\n",
        "    plt.legend()\n",
        "    plt.show(block=block_plot)"
      ]
    },
    {
      "cell_type": "code",
      "execution_count": null,
      "id": "de1de5c1",
      "metadata": {
        "id": "de1de5c1",
        "outputId": "3a403a96-a53d-41fa-e4c9-96b32f492c45",
        "scrolled": false
      },
      "outputs": [
        {
          "data": {
            "image/png": "[encoded data removed]",
            "text/plain": [
              "<Figure size 1440x576 with 1 Axes>"
            ]
          },
          "metadata": {
            "needs_background": "light"
          },
          "output_type": "display_data"
        }
      ],
      "source": [
        "plot_decision_boundary(b, w1, w2, class_0_points, class_1_points)"
      ]
    },
    {
      "cell_type": "markdown",
      "id": "c7029719",
      "metadata": {
        "id": "c7029719"
      },
      "source": [
        "### 7.5 Model Diagnostics: Confusion Matrix\n",
        "\n",
        "A confusion matrix is a very standard was to summaraize the performance of a classification. In a simple visual table it provides the number (or percentage) of the following clqassifications. Class 0 is typically refered to as the negative class and class 1 as the positive class. In many applications these have definite meanings. For example, a malignant tumor would be considered as the positive class. So a false positive would be classifying a benign tumor (0) as malignant (1), which is an error, but not nearly as grave an error as a false negative, classifying a malignant tumor (1) as benign (0).\n",
        "\n",
        "`- True  Positive (class 1 is classified as class 1)`<br/>\n",
        "`- False Positive (class 0 is classified as class 1)`<br/>\n",
        "`- True  Negative (class 0 is classified as class 0)`<br/>\n",
        "`- False Negative (class 1 is classified as class 0)`<br/>\n"
      ]
    },
    {
      "cell_type": "code",
      "execution_count": null,
      "id": "66c61e50",
      "metadata": {
        "scrolled": false,
        "id": "66c61e50",
        "outputId": "e4c3b37e-d5d9-4e8d-f8e4-c12fb829ae7a"
      },
      "outputs": [
        {
          "data": {
            "image/png": "[encoded data removed]",
            "text/plain": [
              "<Figure size 864x360 with 2 Axes>"
            ]
          },
          "metadata": {
            "needs_background": "light"
          },
          "output_type": "display_data"
        }
      ],
      "source": [
        "predicted_labels = np.zeros(len(X_train))\n",
        "predictions = model.predict(X_train)\n",
        "idx = 0\n",
        "for pred in predictions:\n",
        "    if pred > 0.5:\n",
        "        predicted_labels[idx] = 1\n",
        "    else:\n",
        "        predicted_labels[idx] = 0 \n",
        "    idx += 1\n",
        "\n",
        "# Compute the confusion matrix.\n",
        "cm = tf.math.confusion_matrix(labels=y_train, predictions=predicted_labels)\n",
        "\n",
        "plt.figure(figsize=[12, 5])\n",
        "sn.heatmap(cm, annot=True, fmt='d', annot_kws={\"size\": 16})\n",
        "plt.xlabel('Predicted')\n",
        "plt.ylabel('Truth')\n",
        "plt.show()"
      ]
    },
    {
      "cell_type": "markdown",
      "id": "3ca824b2",
      "metadata": {
        "id": "3ca824b2"
      },
      "source": [
        "## 8 Conclusion"
      ]
    },
    {
      "cell_type": "markdown",
      "id": "9fbf478f",
      "metadata": {
        "id": "9fbf478f"
      },
      "source": [
        "In this notebook, we introduced the mathematical foundation for binary classification and showed that the logistic function (or sigmoid) forms the basis for predicting categorical outputs. We showed that the loss function for binary classification is Binary Cross Entropy Loss and that this can be derived from a probabilistic interpretation of the sigmoid function. We also demonstrated how this problem can easily be formulated as a single layer neural network and implemented in Keras. Finally, we demonstrated how the model weights can be helpful in creating various diagnostic plots that provide additional insight."
      ]
    },
    {
      "cell_type": "code",
      "execution_count": null,
      "id": "8f96abfb",
      "metadata": {
        "id": "8f96abfb"
      },
      "outputs": [],
      "source": []
    }
  ],
  "metadata": {
    "colab": {
      "provenance": [],
      "include_colab_link": true
    },
    "hide_input": false,
    "kernelspec": {
      "display_name": "Python 3",
      "language": "python",
      "name": "python3"
    },
    "language_info": {
      "codemirror_mode": {
        "name": "ipython",
        "version": 3
      },
      "file_extension": ".py",
      "mimetype": "text/x-python",
      "name": "python",
      "nbconvert_exporter": "python",
      "pygments_lexer": "ipython3",
      "version": "3.8.8"
    },
    "latex_envs": {
      "LaTeX_envs_menu_present": true,
      "autoclose": false,
      "autocomplete": true,
      "bibliofile": "biblio.bib",
      "cite_by": "apalike",
      "current_citInitial": 1,
      "eqLabelWithNumbers": true,
      "eqNumInitial": 1,
      "hotkeys": {
        "equation": "Ctrl-E",
        "itemize": "Ctrl-I"
      },
      "labels_anchors": false,
      "latex_user_defs": false,
      "report_style_numbering": false,
      "user_envs_cfg": false
    },
    "toc": {
      "base_numbering": 1,
      "nav_menu": {},
      "number_sections": false,
      "sideBar": true,
      "skip_h1_title": false,
      "title_cell": "Table of Contents",
      "title_sidebar": "Contents",
      "toc_cell": false,
      "toc_position": {
        "height": "calc(100% - 180px)",
        "left": "10px",
        "top": "150px",
        "width": "325.198px"
      },
      "toc_section_display": true,
      "toc_window_display": false
    },
    "varInspector": {
      "cols": {
        "lenName": 16,
        "lenType": 16,
        "lenVar": 40
      },
      "kernels_config": {
        "python": {
          "delete_cmd_postfix": "",
          "delete_cmd_prefix": "del ",
          "library": "var_list.py",
          "varRefreshCmd": "print(var_dic_list())"
        },
        "r": {
          "delete_cmd_postfix": ") ",
          "delete_cmd_prefix": "rm(",
          "library": "var_list.r",
          "varRefreshCmd": "cat(var_dic_list()) "
        }
      },
      "types_to_exclude": [
        "module",
        "function",
        "builtin_function_or_method",
        "instance",
        "_Feature"
      ],
      "window_display": false
    }
  },
  "nbformat": 4,
  "nbformat_minor": 5
}