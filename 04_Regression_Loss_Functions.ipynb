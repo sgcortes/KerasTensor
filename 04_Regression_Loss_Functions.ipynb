{
  "cells": [
    {
      "cell_type": "markdown",
      "metadata": {
        "id": "view-in-github",
        "colab_type": "text"
      },
      "source": [
        "<a href=\"https://colab.research.google.com/github/sgcortes/KerasTensor/blob/master/04_Regression_Loss_Functions.ipynb\" target=\"_parent\"><img src=\"https://colab.research.google.com/assets/colab-badge.svg\" alt=\"Open In Colab\"/></a>"
      ]
    },
    {
      "cell_type": "markdown",
      "metadata": {
        "id": "usuqSECUhPcg"
      },
      "source": [
        "<h1 style=\"font-size:30px;\">Regression Loss Functions</h1>\n",
        "\n",
        "In this notebook, we will explore the common loss functions used for Regression tasks in Deep Learning. Commonly, there are two important Regression loss functions. They are:\n",
        "1. Mean Squared Error\n",
        "2. Mean Absolute Error\n",
        "\n",
        "First, we will implement the above two from scratch using the low level functionalities of TensorFlow. Then we will see what are the API methods that TensorFlow provides to calculate these losses with just one line of code.\n",
        "\n",
        "<img src='https://learnopencv.com/wp-content/uploads/2022/01/c4_02_mse_vs_mae.png' width=800 align='center'>"
      ]
    },
    {
      "cell_type": "markdown",
      "metadata": {
        "id": "YFHGnh5LW5LW"
      },
      "source": [
        "## Table of Cotents\n",
        "* [1 Mean Squared Error (MSE)](#1-Mean-Squared-Error-%28MSE%29)\n",
        "* [2 Mean Absolute Error (MAE)](#2-Mean-Absolute-Error-%28MAE%29)\n",
        "* [3 Using tf.keras.losses](#3-Using-tf.keras.losses)\n",
        "    * [3.1 TensorFlow Mean Squared Error](#3.1-TensorFlow-Mean-Squared-Error)\n",
        "    * [3.2 TensorFlow Mean Absolute Error](#3.2-TensorFlow-Mean-Absolute-Error)"
      ]
    },
    {
      "cell_type": "code",
      "execution_count": null,
      "metadata": {
        "id": "21ttYsHBhPcj"
      },
      "outputs": [],
      "source": [
        "import tensorflow as tf\n",
        "import numpy as np"
      ]
    },
    {
      "cell_type": "markdown",
      "metadata": {
        "id": "rfWfgCbLhPck"
      },
      "source": [
        "## 1 Mean Squared Error (MSE)\n",
        "Just like any other loss function, or error function calculation, here also, we need the true values and the predicted values. The following is the mathematical formula to calculate MSE:\n",
        "$$\n",
        "MSE = \\frac{1}{n}\\sum_{i=1}^{n}(y_i - \\hat{y_i})^2\n",
        "$$\n",
        "where\n",
        "\n",
        "$n$: number of examples or samples.\n",
        "\n",
        "$y$: true values.\n",
        "\n",
        "$\\hat{y}$: predicted values.\n",
        "\n",
        "Here, we take a mean of the squared difference between the groud truth and predicted values, that's why the name, Mean Squared Error. As this is an error function, we will like this value to be as small as possible. A smaller value indicates that the ground truth and predicted values are closer to each other.\n",
        "\n",
        "However, there a few disadvantages to using MSE:\n",
        "* It is senstive to outliers.\n",
        "\n",
        "In the following `mse_loss()` function we calculate the MSE using functions from `tf.math` module.  "
      ]
    },
    {
      "cell_type": "code",
      "execution_count": null,
      "metadata": {
        "id": "ISmW6_5bhPck"
      },
      "outputs": [],
      "source": [
        "def mse_loss(y_true, y_pred):\n",
        "    # Convert inputs to TensorFlow Tensor first.\n",
        "    y_true = tf.convert_to_tensor(y_true)\n",
        "    y_pred = tf.convert_to_tensor(y_pred)\n",
        "    mse_loss = tf.math.reduce_mean(tf.math.square(y_true - y_pred))\n",
        "    return mse_loss"
      ]
    },
    {
      "cell_type": "code",
      "execution_count": null,
      "metadata": {
        "colab": {
          "base_uri": "https://localhost:8080/"
        },
        "id": "Tz_7F94jhPcl",
        "outputId": "98598442-8d8d-4faa-f55e-46d274c5502c"
      },
      "outputs": [
        {
          "name": "stdout",
          "output_type": "stream",
          "text": [
            "tf.Tensor(0.5, shape=(), dtype=float32)\n"
          ]
        }
      ],
      "source": [
        "y_true = [0., 1., 0., 0.]\n",
        "y_pred = [1., 1., 1., 0.]\n",
        "mse_loss = mse_loss(y_true, y_pred)\n",
        "print(mse_loss)"
      ]
    },
    {
      "cell_type": "markdown",
      "metadata": {
        "id": "e8gEJm8ahPcm"
      },
      "source": [
        "## 2 Mean Absolute Error (MAE)\n",
        "MAE is another common way to calculate the error between the true values and the predicted values. Here, instead of squaring the error we average the error over the absolute value of the difference between the true and predicted values.\n",
        "\n",
        "$$\n",
        "MAE = \\frac{1}{n}\\sum_{i=1}^{n}|y_i - \\hat{y_i}|\n",
        "$$\n",
        "\n",
        "where\n",
        "\n",
        "$n$: number of examples or samples.\n",
        "\n",
        "$y$: true values.\n",
        "\n",
        "$\\hat{y}$: predicted values.\n",
        "\n",
        "Here also, a lower value indicates a better model.\n",
        "\n",
        "It overcomes a few of the disadvantages of MSE:\n",
        "* Less sensitive to outliers compared to MSE.\n",
        "\n",
        "Similar to the previous function, we calculate the MAE in the following code block."
      ]
    },
    {
      "cell_type": "code",
      "execution_count": null,
      "metadata": {
        "id": "Cs7JpKBthPcm"
      },
      "outputs": [],
      "source": [
        "def mae_loss(y_true, y_pred):\n",
        "    # Convert inputs to TensorFlow Tensor first.\n",
        "    y_true = tf.convert_to_tensor(y_true)\n",
        "    y_pred = tf.convert_to_tensor(y_pred)\n",
        "    mae_loss = tf.math.reduce_mean(tf.abs(y_true - y_pred))\n",
        "    return mae_loss"
      ]
    },
    {
      "cell_type": "code",
      "execution_count": null,
      "metadata": {
        "colab": {
          "base_uri": "https://localhost:8080/"
        },
        "id": "Gc3KgH_chPcm",
        "outputId": "aae7a335-7901-4583-fa8b-6df664cd4302"
      },
      "outputs": [
        {
          "name": "stdout",
          "output_type": "stream",
          "text": [
            "tf.Tensor(1.75, shape=(), dtype=float32)\n"
          ]
        }
      ],
      "source": [
        "y_true = [0., 2., 0., 3.]\n",
        "y_pred = [1., 1., 2., 0.]\n",
        "mae = mae_loss(y_true, y_pred)\n",
        "print(mae)"
      ]
    },
    {
      "cell_type": "markdown",
      "metadata": {
        "id": "qi6utSbAhPcn"
      },
      "source": [
        "## 3 Using `tf.keras.losses`"
      ]
    },
    {
      "cell_type": "markdown",
      "metadata": {
        "id": "GVKwI09ThPcn"
      },
      "source": [
        "TensorFlow already provides the implementation of loss functions through it's `tf.keras.losses` module. Instead of writing a function, defining the tensors, and then calculating the losses, we can just call the functions directly with just one line of code.\n",
        "\n",
        "Now, let's use the same values we used in the above cases, call the predefined TensorFlow loss functions and check whether we get the same answer or not."
      ]
    },
    {
      "cell_type": "markdown",
      "metadata": {
        "id": "RxX5D8VnhPcn"
      },
      "source": [
        "### 3.1 TensorFlow Mean Squared Error"
      ]
    },
    {
      "cell_type": "code",
      "execution_count": null,
      "metadata": {
        "colab": {
          "base_uri": "https://localhost:8080/"
        },
        "id": "4RAn7BEshPcn",
        "outputId": "ba378ba9-013e-4637-867d-b23053a303ec"
      },
      "outputs": [
        {
          "name": "stdout",
          "output_type": "stream",
          "text": [
            "tf.Tensor(0.5, shape=(), dtype=float32)\n"
          ]
        }
      ],
      "source": [
        "y_true = [0., 1., 0., 0.]\n",
        "y_pred = [1., 1., 1., 0.]\n",
        "tf_mse = tf.keras.losses.MeanSquaredError()\n",
        "print(tf_mse(y_true, y_pred))"
      ]
    },
    {
      "cell_type": "markdown",
      "metadata": {
        "id": "VMz3bNSVhPco"
      },
      "source": [
        "You can see, we get the same answer for MSE loss but with much less code this time."
      ]
    },
    {
      "cell_type": "markdown",
      "metadata": {
        "id": "BiX-ktsOhPco"
      },
      "source": [
        "### 3.2 TensorFlow Mean Absolute Error"
      ]
    },
    {
      "cell_type": "code",
      "execution_count": null,
      "metadata": {
        "colab": {
          "base_uri": "https://localhost:8080/"
        },
        "id": "8wHID-wbhPco",
        "outputId": "0de3513b-e70d-4f04-e739-4cddc8e7af93"
      },
      "outputs": [
        {
          "name": "stdout",
          "output_type": "stream",
          "text": [
            "tf.Tensor(1.75, shape=(), dtype=float32)\n"
          ]
        }
      ],
      "source": [
        "y_true = [0., 2., 0., 3.]\n",
        "y_pred = [1., 1., 2., 0.]\n",
        "tf_mae = tf.keras.losses.MeanAbsoluteError()\n",
        "print(tf_mae(y_true, y_pred))"
      ]
    },
    {
      "cell_type": "markdown",
      "metadata": {
        "id": "Fdm1iZ1JhPco"
      },
      "source": [
        "The answer is same for Mean Absolute Error as well."
      ]
    },
    {
      "cell_type": "code",
      "execution_count": null,
      "metadata": {
        "id": "FVeRNufEhPcp"
      },
      "outputs": [],
      "source": []
    }
  ],
  "metadata": {
    "colab": {
      "provenance": [],
      "include_colab_link": true
    },
    "kernelspec": {
      "display_name": "Python 3",
      "language": "python",
      "name": "python3"
    },
    "language_info": {
      "codemirror_mode": {
        "name": "ipython",
        "version": 3
      },
      "file_extension": ".py",
      "mimetype": "text/x-python",
      "name": "python",
      "nbconvert_exporter": "python",
      "pygments_lexer": "ipython3",
      "version": "3.8.8"
    },
    "latex_envs": {
      "LaTeX_envs_menu_present": true,
      "autoclose": false,
      "autocomplete": true,
      "bibliofile": "biblio.bib",
      "cite_by": "apalike",
      "current_citInitial": 1,
      "eqLabelWithNumbers": true,
      "eqNumInitial": 1,
      "hotkeys": {
        "equation": "Ctrl-E",
        "itemize": "Ctrl-I"
      },
      "labels_anchors": false,
      "latex_user_defs": false,
      "report_style_numbering": false,
      "user_envs_cfg": false
    },
    "toc": {
      "base_numbering": 1,
      "nav_menu": {},
      "number_sections": false,
      "sideBar": true,
      "skip_h1_title": false,
      "title_cell": "Table of Contents",
      "title_sidebar": "Contents",
      "toc_cell": false,
      "toc_position": {
        "height": "calc(100% - 180px)",
        "left": "10px",
        "top": "150px",
        "width": "325.198px"
      },
      "toc_section_display": false,
      "toc_window_display": false
    },
    "varInspector": {
      "cols": {
        "lenName": 16,
        "lenType": 16,
        "lenVar": 40
      },
      "kernels_config": {
        "python": {
          "delete_cmd_postfix": "",
          "delete_cmd_prefix": "del ",
          "library": "var_list.py",
          "varRefreshCmd": "print(var_dic_list())"
        },
        "r": {
          "delete_cmd_postfix": ") ",
          "delete_cmd_prefix": "rm(",
          "library": "var_list.r",
          "varRefreshCmd": "cat(var_dic_list()) "
        }
      },
      "position": {
        "height": "415.828px",
        "left": "909.036px",
        "right": "20px",
        "top": "98.9838px",
        "width": "326.98px"
      },
      "types_to_exclude": [
        "module",
        "function",
        "builtin_function_or_method",
        "instance",
        "_Feature"
      ],
      "window_display": false
    }
  },
  "nbformat": 4,
  "nbformat_minor": 0
}