{
  "cells": [
    {
      "cell_type": "markdown",
      "metadata": {
        "id": "view-in-github",
        "colab_type": "text"
      },
      "source": [
        "<a href=\"https://colab.research.google.com/github/sgcortes/KerasTensor/blob/master/05_Introduction_to_Tensorfow_Coding.ipynb\" target=\"_parent\"><img src=\"https://colab.research.google.com/assets/colab-badge.svg\" alt=\"Open In Colab\"/></a>"
      ]
    },
    {
      "cell_type": "markdown",
      "metadata": {
        "id": "moiOUwgn495W"
      },
      "source": [
        "<h1 style=\"font-size:30px;\">TensorFlow Coding Basics</h1>\n",
        "\n",
        "In this notebook, we will cover some of the essential TensorFlow operations that we will use throughout the course. TensorFlow has many analogous functions that are also contained in NumPy, and their usage is straightforward. However, there are a few things in TensorFlow that are unique to TensorFlow, and we will cover several examples in this notebook.\n"
      ]
    },
    {
      "cell_type": "markdown",
      "metadata": {
        "id": "D4-MWNxspH8G"
      },
      "source": [
        "<img src='https://learnopencv.com/wp-content/uploads/2022/01/c4_01_TF_Logo.png' width=400 align='left'><br/>"
      ]
    },
    {
      "cell_type": "markdown",
      "metadata": {
        "id": "BwvrDR5m44fH"
      },
      "source": [
        "## Table of Contents\n",
        "* [1 TensorFlow Constants and Variables](#1-TensorFlow-Constants-and-Variables)\n",
        "* [2 TensorFlow Reduce Functions](#2-TensorFlow-Reduce-Functions)\n",
        "* [3 TensorFlow Indexing](#3-TensorFlow-Indexing)\n",
        "* [4 NumPy / TensorFlow Interoperability](#4-NumPy-/-TensorFlow-Interoperability)"
      ]
    },
    {
      "cell_type": "code",
      "execution_count": null,
      "metadata": {
        "id": "i2Cs__OqLvhJ"
      },
      "outputs": [],
      "source": [
        "import tensorflow as tf\n",
        "import numpy as np\n",
        "import random\n",
        "import matplotlib.pyplot as plt"
      ]
    },
    {
      "cell_type": "code",
      "execution_count": null,
      "metadata": {
        "id": "1_KyUV6sLvhK"
      },
      "outputs": [],
      "source": [
        "SEED_VALUE = 42\n",
        "\n",
        "# Fix random number seed.\n",
        "random.seed(SEED_VALUE)\n",
        "np.random.seed(SEED_VALUE)\n",
        "tf.random.set_seed(SEED_VALUE)"
      ]
    },
    {
      "cell_type": "markdown",
      "metadata": {
        "id": "a-3U-pqk44fJ"
      },
      "source": [
        "## 1 TensorFlow Constants and Variables\n",
        "\n",
        "TensorFlow allows you to create both constants and variables. The key differece is that constants in TensorFlow are not mutable, while variables are. Also, an important distinction between NumPy and TensorFlow regarding variable assignment is that TensorFlow variables **require the use of the `assign()` method to change the value of a variable.**\n",
        "\n",
        "### 1.1 TensorFlow Constants"
      ]
    },
    {
      "cell_type": "code",
      "execution_count": null,
      "metadata": {
        "id": "zskYbQgf44fJ",
        "outputId": "3bfaef9f-9d22-4023-f179-b3c0252b9c07"
      },
      "outputs": [
        {
          "name": "stdout",
          "output_type": "stream",
          "text": [
            "tf.Tensor(3, shape=(), dtype=int32)\n",
            "tf.Tensor(3.1415927, shape=(), dtype=float32)\n",
            "tf.Tensor(3.141592654, shape=(), dtype=float64)\n"
          ]
        }
      ],
      "source": [
        "rank_0_tensor = tf.constant(3)\n",
        "print(rank_0_tensor)\n",
        "\n",
        "rank_0_tensor = tf.constant(3.141592654)\n",
        "print(rank_0_tensor)\n",
        "\n",
        "rank_0_tensor = tf.constant(3.141592654, dtype=tf.float64)\n",
        "\n",
        "print(rank_0_tensor)"
      ]
    },
    {
      "cell_type": "code",
      "execution_count": null,
      "metadata": {
        "id": "eScaSBAg44fK",
        "outputId": "b5eaa1bf-e5d4-46d7-b295-4cc4d173528c"
      },
      "outputs": [
        {
          "name": "stdout",
          "output_type": "stream",
          "text": [
            "tf.Tensor([2. 4. 6.], shape=(3,), dtype=float32)\n"
          ]
        }
      ],
      "source": [
        "# Create a rank-1 constant in TensorFlow.\n",
        "rank_1_tensor = tf.constant([2.0, 4.0, 6.0])\n",
        "print(rank_1_tensor)"
      ]
    },
    {
      "cell_type": "code",
      "execution_count": null,
      "metadata": {
        "id": "9h9QwzqY44fL",
        "outputId": "41896740-0725-4252-e3e6-d070e96a81bf"
      },
      "outputs": [
        {
          "name": "stdout",
          "output_type": "stream",
          "text": [
            "tf.Tensor(\n",
            "[[1 2]\n",
            " [3 4]\n",
            " [5 6]], shape=(3, 2), dtype=int32)\n"
          ]
        }
      ],
      "source": [
        "# You can also explicitly define the datatype while creating the tensor.\n",
        "rank_2_tensor = tf.constant([[1, 2],\n",
        "                             [3, 4],\n",
        "                             [5, 6]], dtype=tf.int32)\n",
        "print(rank_2_tensor)"
      ]
    },
    {
      "cell_type": "code",
      "execution_count": null,
      "metadata": {
        "id": "O1pwq6bY44fO",
        "outputId": "97400be5-d876-4b42-d1c5-3e5ad21db16b"
      },
      "outputs": [
        {
          "name": "stdout",
          "output_type": "stream",
          "text": [
            "tf.Tensor(\n",
            "[[1 2 3]\n",
            " [4 5 6]], shape=(2, 3), dtype=int32)\n",
            "\n",
            "\n",
            "tf.Tensor(\n",
            "[[ 7  8  9]\n",
            " [10 11 12]], shape=(2, 3), dtype=int32)\n",
            "\n",
            "\n",
            "tf.Tensor(\n",
            "[[ 1  2  3]\n",
            " [ 4  5  6]\n",
            " [ 7  8  9]\n",
            " [10 11 12]], shape=(4, 3), dtype=int32)\n",
            "\n",
            "\n",
            "tf.Tensor(\n",
            "[[ 1  2  3  7  8  9]\n",
            " [ 4  5  6 10 11 12]], shape=(2, 6), dtype=int32)\n"
          ]
        }
      ],
      "source": [
        "# Create two constant tensors.\n",
        "t1 = tf.constant([[1, 2, 3], [4, 5, 6]])\n",
        "t2 = tf.constant([[7, 8, 9], [10, 11, 12]])\n",
        "\n",
        "print(t1)\n",
        "print('\\n')\n",
        "print(t2)\n",
        "print('\\n')\n",
        "\n",
        "# Concatenate tensors along axis-0.\n",
        "print(tf.concat([t1, t2], axis=0))\n",
        "print('\\n')\n",
        "\n",
        "# Concatenate tensors along axis-1.\n",
        "print(tf.concat([t1, t2], axis=1))"
      ]
    },
    {
      "cell_type": "markdown",
      "metadata": {
        "id": "2IgPWCS444fM"
      },
      "source": [
        "### 1.2 TensorFlow Variables\n",
        "\n",
        "The unique thing about TensorFlow variables is that you **cannot use the assignment (`=`) operator to assign a new value to a variable. You must use the `assign()` method as shown below.**"
      ]
    },
    {
      "cell_type": "code",
      "execution_count": null,
      "metadata": {
        "id": "chzX_hx-44fN",
        "outputId": "c7102cce-aa8e-464c-934e-a83ecaa6247b",
        "scrolled": true
      },
      "outputs": [
        {
          "name": "stdout",
          "output_type": "stream",
          "text": [
            "\n",
            "Error: A tensor object does not support item assignment\n"
          ]
        }
      ],
      "source": [
        "# Create a tensor variable.\n",
        "tensor = tf.Variable([2, 4])\n",
        "\n",
        "# Attempt to assign a new value to 0-th tensor element\n",
        "try:\n",
        "    tensor[0] = 11\n",
        "    print('Tensor: ', tensor)\n",
        "except TypeError:\n",
        "    print(\"\\nError: A tensor object does not support item assignment\")"
      ]
    },
    {
      "cell_type": "markdown",
      "metadata": {
        "id": "xepsRt2cpH8J"
      },
      "source": [
        "In TensorFlow, you can't change a tensor by left-hand assignment. Instead, you must use the `assign()` method as shown below."
      ]
    },
    {
      "cell_type": "code",
      "execution_count": null,
      "metadata": {
        "id": "IjwdODuopH8K",
        "outputId": "7d016f7b-3d0a-431f-9a14-fa028cb8766b"
      },
      "outputs": [
        {
          "name": "stdout",
          "output_type": "stream",
          "text": [
            "tf.Tensor(42, shape=(), dtype=int32)\n",
            "tf.Tensor(4, shape=(), dtype=int32)\n"
          ]
        }
      ],
      "source": [
        "# You must use the assign() method to assign a new value to a tensorflow variable\n",
        "tensor[0].assign(42)\n",
        "print(tensor[0])\n",
        "print(tensor[1])"
      ]
    },
    {
      "cell_type": "markdown",
      "metadata": {
        "id": "7tkB0SQHpH8K"
      },
      "source": [
        "So, what is a `tf.Variable`? You can think of it as a wrapper around a tensor whose value can be changed by running operations on it. For more information, you can refer to the <a href=\"https://www.tensorflow.org/guide/variable\" target=_blank>official documentation</a>."
      ]
    },
    {
      "cell_type": "markdown",
      "metadata": {
        "id": "qsZlGubm44fO"
      },
      "source": [
        "## 2 TensorFlow Reduce Functions\n",
        "\n",
        "There is a class of functions in TensorFlow that are used to compute various quantities of a tensor. Unlike NumPy, these functions start with the name 'reduce' (e.g., `reduce_sum()` instead of just `sum()`). This notation stems from the fact that these functions can compute a given quantity along any given axis of a tensor. If the axis is not specified, then the quantity is computed across all axes."
      ]
    },
    {
      "cell_type": "code",
      "execution_count": null,
      "metadata": {
        "id": "QuLokEG144fO",
        "outputId": "6752a30a-d403-40a3-9303-c7e76e3472f3"
      },
      "outputs": [
        {
          "name": "stdout",
          "output_type": "stream",
          "text": [
            "tf.Tensor(\n",
            "[[6.6456213  4.4100676  3.528825   4.6448255  0.33660412]\n",
            " [6.8467236  7.4011745  8.724445   2.2632635  2.2319686 ]\n",
            " [3.103881   7.223358   1.3318717  5.4806385  5.746088  ]], shape=(3, 5), dtype=float32)\n",
            "\n",
            "Computed over all axes:\n",
            "\n",
            "min:   tf.Tensor(0.33660412, shape=(), dtype=float32)\n",
            "max:   tf.Tensor(8.724445, shape=(), dtype=float32)\n",
            "mean:  tf.Tensor(4.6612906, shape=(), dtype=float32)\n",
            "sum:   tf.Tensor(69.91936, shape=(), dtype=float32)\n",
            "\n",
            "Computed for axis 1:\n",
            "\n",
            "min:   tf.Tensor([0.33660412 2.2319686  1.3318717 ], shape=(3,), dtype=float32)\n",
            "max:   tf.Tensor([6.6456213 8.724445  7.223358 ], shape=(3,), dtype=float32)\n",
            "mean:  tf.Tensor([3.913189  5.493515  4.5771675], shape=(3,), dtype=float32)\n",
            "sum:   tf.Tensor([19.565945 27.467575 22.885838], shape=(3,), dtype=float32)\n"
          ]
        }
      ],
      "source": [
        "# Create some data.\n",
        "x = 10 * tf.random.uniform(shape=[3,5])\n",
        "print(x)\n",
        "\n",
        "# Compute the following quantities for all axes..\n",
        "xmin  = tf.reduce_min (x)\n",
        "xmax  = tf.reduce_max (x)\n",
        "xmean = tf.reduce_mean(x)\n",
        "xsum  = tf.reduce_sum (x)\n",
        "\n",
        "print('\\nComputed over all axes:\\n')\n",
        "print('min:  ', xmin)\n",
        "print('max:  ', xmax)\n",
        "print('mean: ', xmean)\n",
        "print('sum:  ', xsum)\n",
        "\n",
        "# Compute the quantities for axis = 1.\n",
        "xmin  = tf.reduce_min (x, axis=1)\n",
        "xmax  = tf.reduce_max (x, axis=1)\n",
        "xmean = tf.reduce_mean(x, axis=1)\n",
        "xsum  = tf.reduce_sum (x, axis=1)\n",
        "\n",
        "print('\\nComputed for axis 1:\\n')\n",
        "print('min:  ', xmin)\n",
        "print('max:  ', xmax)\n",
        "print('mean: ', xmean)\n",
        "print('sum:  ', xsum)"
      ]
    },
    {
      "cell_type": "markdown",
      "metadata": {
        "id": "nVwL_QsV44fO"
      },
      "source": [
        "## 3 TensorFlow Indexing (`gather`)\n",
        "\n",
        "### <font style=\"color:rgb(50,120,230)\">NumPy array indexing</font>\n",
        "\n",
        "Let's first review how NumPy arrays can be easily indexed using another NumPy array."
      ]
    },
    {
      "cell_type": "code",
      "execution_count": null,
      "metadata": {
        "id": "ZGZo8BBa44fP",
        "outputId": "b393024f-4bc2-4b72-9005-96edb49eeaeb"
      },
      "outputs": [
        {
          "name": "stdout",
          "output_type": "stream",
          "text": [
            "data: \n",
            " [3.74540119 9.50714306 7.31993942 5.98658484 1.5601864  1.5599452\n",
            " 0.58083612 8.66176146 6.01115012 7.08072578 0.20584494 9.69909852\n",
            " 8.32442641 2.12339111 1.81824967 1.8340451  3.04242243 5.24756432\n",
            " 4.31945019 2.9122914  6.11852895 1.39493861 2.92144649 3.66361843]\n",
            "\n",
            "\n",
            "indices:  [ 0  5 20 15 13]\n",
            "\n",
            "\n",
            "selected_data:  [3.74540119 1.5599452  6.11852895 1.8340451  2.12339111]\n"
          ]
        }
      ],
      "source": [
        "# Create some data.\n",
        "num_data = 24\n",
        "data = np.random.uniform(0, 10, num_data)\n",
        "print('data: \\n', data)\n",
        "print('\\n')\n",
        "\n",
        "# Create an array of random indices.\n",
        "indices = np.random.choice(data.shape[0], 5, replace=False)\n",
        "print('indices: ', indices)\n",
        "print('\\n')\n",
        "\n",
        "# Use the indices array to select the corresponding elements from the data array.\n",
        "selected_data = data[indices]\n",
        "\n",
        "print('selected_data: ', selected_data)"
      ]
    },
    {
      "cell_type": "markdown",
      "metadata": {
        "id": "7F1YpCoe44fP"
      },
      "source": [
        "### <font style=\"color:rgb(50,120,230)\">TensorFlow array indexing</font>\n",
        "\n",
        "When using TensorFlow variables, we need to make use of the `tf.gather()` method to achieve the functionality as shown above in NumPy. "
      ]
    },
    {
      "cell_type": "code",
      "execution_count": null,
      "metadata": {
        "id": "kVQuuavl44fP",
        "outputId": "4d2f46c9-e2b2-4017-a675-7355393ac17e"
      },
      "outputs": [
        {
          "name": "stdout",
          "output_type": "stream",
          "text": [
            "data: \n",
            " tf.Tensor(\n",
            "[0.68789124 0.48447883 0.9309944  0.252187   0.73115396 0.89256823\n",
            " 0.94674826 0.7493341  0.34925628 0.54718256 0.26160395 0.69734323\n",
            " 0.11962581 0.53484344 0.7148968  0.87501776 0.33967495 0.17377627\n",
            " 0.4418521  0.9008261  0.13803864 0.12217975 0.5754491  0.9417181 ], shape=(24,), dtype=float32)\n",
            "\n",
            "\n",
            "indices:  tf.Tensor([ 6  3  2 15  1], shape=(5,), dtype=int32)\n",
            "\n",
            "\n",
            "selected_data:  tf.Tensor([0.94674826 0.252187   0.9309944  0.87501776 0.48447883], shape=(5,), dtype=float32)\n"
          ]
        }
      ],
      "source": [
        "# Create some data.\n",
        "num_data = 24\n",
        "data = tf.random.uniform(shape=[num_data])\n",
        "print('data: \\n', data)\n",
        "print('\\n')\n",
        "\n",
        "# Create an array of random indices.\n",
        "indices = tf.random.uniform([5], minval=0, maxval=len(data)-1, dtype=tf.dtypes.int32)\n",
        "print('indices: ', indices)\n",
        "print('\\n')\n",
        "\n",
        "# Use this he gather() method to index one tensor by another tensor.\n",
        "selected_data = tf.gather(data, indices)\n",
        "\n",
        "print('selected_data: ', selected_data)"
      ]
    },
    {
      "cell_type": "markdown",
      "metadata": {
        "id": "15RtJ5sx44fP"
      },
      "source": [
        "Let's now assume we have a rank-2 tensor and would like to select specific rows within the tensor. This can easily be accomplished with the `gather()` method where we specify a list of the row indices and also specify the axis along which those indices are applied."
      ]
    },
    {
      "cell_type": "code",
      "execution_count": null,
      "metadata": {
        "id": "qCQ7l5lH44fP",
        "outputId": "4fda3e84-1075-4685-97a3-1e18aa36e338"
      },
      "outputs": [
        {
          "name": "stdout",
          "output_type": "stream",
          "text": [
            "tf.Tensor(\n",
            "[[ 0.65648675 -0.4130517   0.33997506]\n",
            " [-1.0056272   0.70266235 -1.4008642 ]\n",
            " [-0.89780754 -0.34856176 -0.95890623]\n",
            " [ 1.1948482   0.8507053  -0.30878615]\n",
            " [ 0.31389382  0.41766927  1.0629053 ]], shape=(5, 3), dtype=float32)\n",
            "\n",
            "\n",
            "1st, 3rd, and 5th rows:\n",
            "tf.Tensor(\n",
            "[[ 0.65648675 -0.4130517   0.33997506]\n",
            " [-0.89780754 -0.34856176 -0.95890623]\n",
            " [ 0.31389382  0.41766927  1.0629053 ]], shape=(3, 3), dtype=float32)\n",
            "\n",
            "\n",
            "1st and 3rd, cols:\n",
            "tf.Tensor(\n",
            "[[ 0.65648675  0.33997506]\n",
            " [-1.0056272  -1.4008642 ]\n",
            " [-0.89780754 -0.95890623]\n",
            " [ 1.1948482  -0.30878615]\n",
            " [ 0.31389382  1.0629053 ]], shape=(5, 2), dtype=float32)\n"
          ]
        }
      ],
      "source": [
        "# Create a random tensor.\n",
        "tensor = tf.random.normal(shape=[5, 3])\n",
        "print(tensor)\n",
        "print('\\n')\n",
        "\n",
        "# Create a tensor with indices.\n",
        "rows = tf.constant([0, 2, 4])\n",
        "cols = tf.constant([0, 2])\n",
        "\n",
        "print('1st, 3rd, and 5th rows:')\n",
        "\n",
        "# Access specific rows of a tensor by specifying the \n",
        "# indices of the rows along with the row axis.\n",
        "print(tf.gather(tensor, rows, axis=0))\n",
        "\n",
        "print('\\n')\n",
        "print('1st and 3rd, cols:')\n",
        "\n",
        "# Access specific cols of a tensor by specifying the \n",
        "# indices of the cols along with the col axis.\n",
        "print(tf.gather(tensor, cols, axis=1))"
      ]
    },
    {
      "cell_type": "markdown",
      "metadata": {
        "id": "e3Qfb8OH44fQ"
      },
      "source": [
        "## 4 NumPy / TensorFlow Interoperability\n",
        "\n",
        "When using TensorFlow it is very common to also make use of NumPy, and it is very common to convert between NumPy and Tensor Flow variables in code you are developing. In this section, we will demonstrate the use of several built-in functions that allow you to convert back and forth between and NumPy and TensorFlow.\n",
        "\n",
        "- `tf.convert_to_tensor(python_object)`\n",
        "- `tensor.numpy()`"
      ]
    },
    {
      "cell_type": "code",
      "execution_count": null,
      "metadata": {
        "id": "cDyyO7hP44fQ",
        "outputId": "1589f20a-12fe-4d11-d4dd-d64a64f8d0e8"
      },
      "outputs": [
        {
          "name": "stdout",
          "output_type": "stream",
          "text": [
            "List:    [1, 2]\n",
            "Array:   [1 2]\n",
            "Tensor:  tf.Tensor([1 2], shape=(2,), dtype=int32)\n",
            "Tensor:  tf.Tensor([1 2], shape=(2,), dtype=int64)\n",
            "Array:   [1 2]\n"
          ]
        }
      ],
      "source": [
        "# Create a python list.\n",
        "python_list = [1, 2]\n",
        "\n",
        "# Create a NumPy array from the list.\n",
        "numpy_array = np.array(python_list)\n",
        "\n",
        "# Create a tensor from list.\n",
        "tensor_from_list = tf.convert_to_tensor(python_list)\n",
        "\n",
        "# Create a tensor from a NumPy array.\n",
        "tensor_from_array = tf.convert_to_tensor(numpy_array)\n",
        "\n",
        "# Create a NumPy array from a tensor.\n",
        "array_from_tensor = tensor_from_array.numpy()\n",
        "\n",
        "print('List:   ', python_list)\n",
        "print('Array:  ', numpy_array)\n",
        "print('Tensor: ', tensor_from_list)\n",
        "print('Tensor: ', tensor_from_array)\n",
        "print('Array:  ', array_from_tensor)"
      ]
    },
    {
      "cell_type": "code",
      "execution_count": null,
      "metadata": {
        "id": "VgWTLuJUpH8M"
      },
      "outputs": [],
      "source": []
    }
  ],
  "metadata": {
    "colab": {
      "provenance": [],
      "include_colab_link": true
    },
    "jupytext": {
      "formats": "ipynb,py:light"
    },
    "kernelspec": {
      "display_name": "dl-tf-keras-env",
      "language": "python",
      "name": "dl-tf-keras-env"
    },
    "language_info": {
      "codemirror_mode": {
        "name": "ipython",
        "version": 3
      },
      "file_extension": ".py",
      "mimetype": "text/x-python",
      "name": "python",
      "nbconvert_exporter": "python",
      "pygments_lexer": "ipython3",
      "version": "3.9.5"
    },
    "toc": {
      "base_numbering": 1,
      "nav_menu": {},
      "number_sections": true,
      "sideBar": true,
      "skip_h1_title": false,
      "title_cell": "Table of Contents",
      "title_sidebar": "Contents",
      "toc_cell": false,
      "toc_position": {},
      "toc_section_display": true,
      "toc_window_display": false
    },
    "varInspector": {
      "cols": {
        "lenName": 16,
        "lenType": 16,
        "lenVar": 40
      },
      "kernels_config": {
        "python": {
          "delete_cmd_postfix": "",
          "delete_cmd_prefix": "del ",
          "library": "var_list.py",
          "varRefreshCmd": "print(var_dic_list())"
        },
        "r": {
          "delete_cmd_postfix": ") ",
          "delete_cmd_prefix": "rm(",
          "library": "var_list.r",
          "varRefreshCmd": "cat(var_dic_list()) "
        }
      },
      "types_to_exclude": [
        "module",
        "function",
        "builtin_function_or_method",
        "instance",
        "_Feature"
      ],
      "window_display": false
    }
  },
  "nbformat": 4,
  "nbformat_minor": 0
}